{
 "cells": [
  {
   "cell_type": "markdown",
   "source": [
    "# 2022 Running Analysis\n"
   ],
   "metadata": {
    "collapsed": false
   }
  },
  {
   "cell_type": "markdown",
   "source": [
    "## Segments\n"
   ],
   "metadata": {
    "collapsed": false
   }
  },
  {
   "cell_type": "code",
   "execution_count": 6,
   "outputs": [
    {
     "data": {
      "text/plain": "           id                                               name  elapsedTime\n0     7370509                           piscine-pont jules Cesar          173\n1    27607808                Pont Jules César --> Bd du Massacre          516\n2    20310261  passage à côté du stade jusqu'au terrain de te...           70\n3     5403095                                        1km Chezine          296\n4    30957001                           8 de la chézine - 2,3 km          690\n..        ...                                                ...          ...\n476  10811073                                      Agrès Chézine           83\n477  26472824               Chemin Trail derrière école Carcouët          140\n478  19642112                                           chez moi           64\n479  15312546                                jaguere_trocardiere          277\n480  20714977                                     Jaguère_serres          204\n\n[481 rows x 3 columns]",
      "text/html": "<div>\n<style scoped>\n    .dataframe tbody tr th:only-of-type {\n        vertical-align: middle;\n    }\n\n    .dataframe tbody tr th {\n        vertical-align: top;\n    }\n\n    .dataframe thead th {\n        text-align: right;\n    }\n</style>\n<table border=\"1\" class=\"dataframe\">\n  <thead>\n    <tr style=\"text-align: right;\">\n      <th></th>\n      <th>id</th>\n      <th>name</th>\n      <th>elapsedTime</th>\n    </tr>\n  </thead>\n  <tbody>\n    <tr>\n      <th>0</th>\n      <td>7370509</td>\n      <td>piscine-pont jules Cesar</td>\n      <td>173</td>\n    </tr>\n    <tr>\n      <th>1</th>\n      <td>27607808</td>\n      <td>Pont Jules César --&gt; Bd du Massacre</td>\n      <td>516</td>\n    </tr>\n    <tr>\n      <th>2</th>\n      <td>20310261</td>\n      <td>passage à côté du stade jusqu'au terrain de te...</td>\n      <td>70</td>\n    </tr>\n    <tr>\n      <th>3</th>\n      <td>5403095</td>\n      <td>1km Chezine</td>\n      <td>296</td>\n    </tr>\n    <tr>\n      <th>4</th>\n      <td>30957001</td>\n      <td>8 de la chézine - 2,3 km</td>\n      <td>690</td>\n    </tr>\n    <tr>\n      <th>...</th>\n      <td>...</td>\n      <td>...</td>\n      <td>...</td>\n    </tr>\n    <tr>\n      <th>476</th>\n      <td>10811073</td>\n      <td>Agrès Chézine</td>\n      <td>83</td>\n    </tr>\n    <tr>\n      <th>477</th>\n      <td>26472824</td>\n      <td>Chemin Trail derrière école Carcouët</td>\n      <td>140</td>\n    </tr>\n    <tr>\n      <th>478</th>\n      <td>19642112</td>\n      <td>chez moi</td>\n      <td>64</td>\n    </tr>\n    <tr>\n      <th>479</th>\n      <td>15312546</td>\n      <td>jaguere_trocardiere</td>\n      <td>277</td>\n    </tr>\n    <tr>\n      <th>480</th>\n      <td>20714977</td>\n      <td>Jaguère_serres</td>\n      <td>204</td>\n    </tr>\n  </tbody>\n</table>\n<p>481 rows × 3 columns</p>\n</div>"
     },
     "metadata": {},
     "output_type": "display_data"
    },
    {
     "data": {
      "text/plain": "           id  count\n84   20310261     30\n42   13276220     17\n5     5403095     15\n81   20263817     15\n79   20263702     14\n15    6899362     13\n94   22650322     13\n74   19642112     13\n111  27607808     12\n83   20310176     12",
      "text/html": "<div>\n<style scoped>\n    .dataframe tbody tr th:only-of-type {\n        vertical-align: middle;\n    }\n\n    .dataframe tbody tr th {\n        vertical-align: top;\n    }\n\n    .dataframe thead th {\n        text-align: right;\n    }\n</style>\n<table border=\"1\" class=\"dataframe\">\n  <thead>\n    <tr style=\"text-align: right;\">\n      <th></th>\n      <th>id</th>\n      <th>count</th>\n    </tr>\n  </thead>\n  <tbody>\n    <tr>\n      <th>84</th>\n      <td>20310261</td>\n      <td>30</td>\n    </tr>\n    <tr>\n      <th>42</th>\n      <td>13276220</td>\n      <td>17</td>\n    </tr>\n    <tr>\n      <th>5</th>\n      <td>5403095</td>\n      <td>15</td>\n    </tr>\n    <tr>\n      <th>81</th>\n      <td>20263817</td>\n      <td>15</td>\n    </tr>\n    <tr>\n      <th>79</th>\n      <td>20263702</td>\n      <td>14</td>\n    </tr>\n    <tr>\n      <th>15</th>\n      <td>6899362</td>\n      <td>13</td>\n    </tr>\n    <tr>\n      <th>94</th>\n      <td>22650322</td>\n      <td>13</td>\n    </tr>\n    <tr>\n      <th>74</th>\n      <td>19642112</td>\n      <td>13</td>\n    </tr>\n    <tr>\n      <th>111</th>\n      <td>27607808</td>\n      <td>12</td>\n    </tr>\n    <tr>\n      <th>83</th>\n      <td>20310176</td>\n      <td>12</td>\n    </tr>\n  </tbody>\n</table>\n</div>"
     },
     "metadata": {},
     "output_type": "display_data"
    }
   ],
   "source": [
    "import pandas as pd\n",
    "\n",
    "from stravadataanalysis import file\n",
    "from stravadataanalysis import strava\n",
    "import itertools\n",
    "\n",
    "json_activities_2022 = file.read_json_files(\"../data/2022/activities\")\n",
    "activities_2022 = pd.DataFrame.from_dict(json_activities_2022)\n",
    "\n",
    "segments = activities_2022['segment_efforts'].apply(strava.extract_segments)\n",
    "segments_2022 = pd.DataFrame(itertools.chain.from_iterable(segments.values))\n",
    "\n",
    "display(segments_2022)\n",
    "\n",
    "top_10_segments = segments_2022.groupby(['id'])['id'].count()\\\n",
    "  .reset_index(name='count')\\\n",
    "  .sort_values(['count'], ascending=False)[:10]\n",
    "\n",
    "display(top_10_segments)\n",
    "\n"
   ],
   "metadata": {
    "collapsed": false
   }
  }
 ],
 "metadata": {
  "kernelspec": {
   "display_name": "Python 3",
   "language": "python",
   "name": "python3"
  },
  "language_info": {
   "codemirror_mode": {
    "name": "ipython",
    "version": 2
   },
   "file_extension": ".py",
   "mimetype": "text/x-python",
   "name": "python",
   "nbconvert_exporter": "python",
   "pygments_lexer": "ipython2",
   "version": "2.7.6"
  }
 },
 "nbformat": 4,
 "nbformat_minor": 0
}
