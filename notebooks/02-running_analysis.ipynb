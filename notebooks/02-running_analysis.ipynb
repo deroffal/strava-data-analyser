{
 "cells": [
  {
   "cell_type": "markdown",
   "source": [
    "# 2022 Running Analysis\n"
   ],
   "metadata": {
    "collapsed": false
   }
  },
  {
   "cell_type": "code",
   "execution_count": 1,
   "outputs": [],
   "source": [
    "from stravadataanalysis.src.repository import data_loader\n",
    "\n",
    "activities_2022 = data_loader.load_activities(\"../data/2022/activities\")\n",
    "runs = activities_2022[activities_2022['type'] == 'Run']\n"
   ],
   "metadata": {
    "collapsed": false
   }
  },
  {
   "cell_type": "markdown",
   "source": [
    "## 2022 Highlight"
   ],
   "metadata": {
    "collapsed": false
   }
  },
  {
   "cell_type": "code",
   "execution_count": 2,
   "outputs": [
    {
     "data": {
      "text/plain": "             highlight       value                                name  \\\n15        max_distance     21.34km          Course à pied l'après-midi   \n15        max_duration    01:50:38          Course à pied l'après-midi   \n22  max_elevation_gain        263m  Henvic / Sentier Côtier à Carantec   \n40         earlier_run    06:51:23              Course à pied le matin   \n27   max_average_speed  4:45min/km              Course à pied matinale   \n0    max_top_heartrate      192bpm         Course à pied sous la pluie   \n\n        start_date_local          id  \n15  2022-03-13T16:21:44Z  6819196468  \n15  2022-03-13T16:21:44Z  6819196468  \n22  2022-04-17T17:00:17Z  6997761739  \n40  2022-07-12T06:51:23Z  7454700738  \n27  2022-05-07T10:58:42Z  7101290577  \n0   2022-01-03T12:01:08Z  6465654440  ",
      "text/html": "<div>\n<style scoped>\n    .dataframe tbody tr th:only-of-type {\n        vertical-align: middle;\n    }\n\n    .dataframe tbody tr th {\n        vertical-align: top;\n    }\n\n    .dataframe thead th {\n        text-align: right;\n    }\n</style>\n<table border=\"1\" class=\"dataframe\">\n  <thead>\n    <tr style=\"text-align: right;\">\n      <th></th>\n      <th>highlight</th>\n      <th>value</th>\n      <th>name</th>\n      <th>start_date_local</th>\n      <th>id</th>\n    </tr>\n  </thead>\n  <tbody>\n    <tr>\n      <th>15</th>\n      <td>max_distance</td>\n      <td>21.34km</td>\n      <td>Course à pied l'après-midi</td>\n      <td>2022-03-13T16:21:44Z</td>\n      <td>6819196468</td>\n    </tr>\n    <tr>\n      <th>15</th>\n      <td>max_duration</td>\n      <td>01:50:38</td>\n      <td>Course à pied l'après-midi</td>\n      <td>2022-03-13T16:21:44Z</td>\n      <td>6819196468</td>\n    </tr>\n    <tr>\n      <th>22</th>\n      <td>max_elevation_gain</td>\n      <td>263m</td>\n      <td>Henvic / Sentier Côtier à Carantec</td>\n      <td>2022-04-17T17:00:17Z</td>\n      <td>6997761739</td>\n    </tr>\n    <tr>\n      <th>40</th>\n      <td>earlier_run</td>\n      <td>06:51:23</td>\n      <td>Course à pied le matin</td>\n      <td>2022-07-12T06:51:23Z</td>\n      <td>7454700738</td>\n    </tr>\n    <tr>\n      <th>27</th>\n      <td>max_average_speed</td>\n      <td>4:45min/km</td>\n      <td>Course à pied matinale</td>\n      <td>2022-05-07T10:58:42Z</td>\n      <td>7101290577</td>\n    </tr>\n    <tr>\n      <th>0</th>\n      <td>max_top_heartrate</td>\n      <td>192bpm</td>\n      <td>Course à pied sous la pluie</td>\n      <td>2022-01-03T12:01:08Z</td>\n      <td>6465654440</td>\n    </tr>\n  </tbody>\n</table>\n</div>"
     },
     "execution_count": 2,
     "metadata": {},
     "output_type": "execute_result"
    }
   ],
   "source": [
    "from stravadataanalysis.src.view import data_format\n",
    "from stravadataanalysis.src.domain import highlights\n",
    "import pandas as pd\n",
    "\n",
    "highlights_requests = [\n",
    "    highlights.Highlight('max_distance', 'distance', display_function=data_format.m_as_km),\n",
    "    highlights.Highlight('max_duration', 'elapsed_time', display_function=lambda x: data_format.seconds_as_hhmmss(int(x))),\n",
    "    highlights.Highlight('max_elevation_gain', 'total_elevation_gain', display_function=data_format.m),\n",
    "    highlights.Highlight('earlier_run', 'start_time', ascending_sort_order=True),\n",
    "    highlights.Highlight('max_average_speed', 'average_speed', data_format.mps_as_minpkm),\n",
    "    highlights.Highlight('max_top_heartrate', 'max_heartrate', data_format.bpm),\n",
    "]\n",
    "\n",
    "columns = [\"highlight\", \"value\", \"name\", \"start_date_local\", \"id\"]\n",
    "\n",
    "highlights_2022 = []\n",
    "for highlight_request in highlights_requests:\n",
    "    highlight = highlight_request.transform(runs)\n",
    "    highlights_2022.append(highlight)\n",
    "\n",
    "pd.DataFrame(highlights_2022, columns=columns)"
   ],
   "metadata": {
    "collapsed": false
   }
  },
  {
   "cell_type": "markdown",
   "source": [
    "## Segments\n",
    "Top 10 segments of the year :"
   ],
   "metadata": {
    "collapsed": false
   }
  },
  {
   "cell_type": "code",
   "execution_count": 3,
   "outputs": [
    {
     "data": {
      "text/plain": "           id  count                                               name\n91   20310261     30  passage à côté du stade jusqu'au terrain de te...\n43   13276220     17                                 Retour depuis pont\n5     5403095     15                                        1km Chezine\n88   20263817     15             vers aire de jeu du parc de la Chézine\n86   20263702     14            Chézine partie sud du circuit principal\n15    6899362     13                     Montée de l'Avenue des Acacias\n101  22650322     13                 Bassin de la Chezine --> 2ème pont\n81   19642112     13                                           chez moi\n7     5472005     12                       Dervallieres-Desgrées du lou\n122  27607808     12                Pont Jules César --> Bd du Massacre",
      "text/html": "<div>\n<style scoped>\n    .dataframe tbody tr th:only-of-type {\n        vertical-align: middle;\n    }\n\n    .dataframe tbody tr th {\n        vertical-align: top;\n    }\n\n    .dataframe thead th {\n        text-align: right;\n    }\n</style>\n<table border=\"1\" class=\"dataframe\">\n  <thead>\n    <tr style=\"text-align: right;\">\n      <th></th>\n      <th>id</th>\n      <th>count</th>\n      <th>name</th>\n    </tr>\n  </thead>\n  <tbody>\n    <tr>\n      <th>91</th>\n      <td>20310261</td>\n      <td>30</td>\n      <td>passage à côté du stade jusqu'au terrain de te...</td>\n    </tr>\n    <tr>\n      <th>43</th>\n      <td>13276220</td>\n      <td>17</td>\n      <td>Retour depuis pont</td>\n    </tr>\n    <tr>\n      <th>5</th>\n      <td>5403095</td>\n      <td>15</td>\n      <td>1km Chezine</td>\n    </tr>\n    <tr>\n      <th>88</th>\n      <td>20263817</td>\n      <td>15</td>\n      <td>vers aire de jeu du parc de la Chézine</td>\n    </tr>\n    <tr>\n      <th>86</th>\n      <td>20263702</td>\n      <td>14</td>\n      <td>Chézine partie sud du circuit principal</td>\n    </tr>\n    <tr>\n      <th>15</th>\n      <td>6899362</td>\n      <td>13</td>\n      <td>Montée de l'Avenue des Acacias</td>\n    </tr>\n    <tr>\n      <th>101</th>\n      <td>22650322</td>\n      <td>13</td>\n      <td>Bassin de la Chezine --&gt; 2ème pont</td>\n    </tr>\n    <tr>\n      <th>81</th>\n      <td>19642112</td>\n      <td>13</td>\n      <td>chez moi</td>\n    </tr>\n    <tr>\n      <th>7</th>\n      <td>5472005</td>\n      <td>12</td>\n      <td>Dervallieres-Desgrées du lou</td>\n    </tr>\n    <tr>\n      <th>122</th>\n      <td>27607808</td>\n      <td>12</td>\n      <td>Pont Jules César --&gt; Bd du Massacre</td>\n    </tr>\n  </tbody>\n</table>\n</div>"
     },
     "metadata": {},
     "output_type": "display_data"
    }
   ],
   "source": [
    "from stravadataanalysis.src.domain import segments\n",
    "\n",
    "top_10_segments = segments.get_top_10_segments(runs)\n",
    "\n",
    "display(top_10_segments)\n",
    "\n"
   ],
   "metadata": {
    "collapsed": false
   }
  },
  {
   "cell_type": "markdown",
   "source": [
    "## Split metrics\n",
    "\n",
    "Evolution of some metrics during my runs :\n",
    "* speed\n",
    "* heart rate\n",
    "\n",
    "> NOTE: Training runs (Strava's workout_type 3) are excluded from the analysis because split runs create split metrics with various interval and the goal is to compare each km."
   ],
   "metadata": {
    "collapsed": false
   }
  },
  {
   "cell_type": "code",
   "execution_count": 4,
   "outputs": [
    {
     "data": {
      "text/plain": "<Figure size 432x288 with 1 Axes>",
      "image/png": "[encoded data removed]"
     },
     "metadata": {
      "needs_background": "light"
     },
     "output_type": "display_data"
    },
    {
     "data": {
      "text/plain": "<Figure size 432x288 with 1 Axes>",
      "image/png": "[encoded data removed]"
     },
     "metadata": {
      "needs_background": "light"
     },
     "output_type": "display_data"
    }
   ],
   "source": [
    "from stravadataanalysis.src.domain import split_metrics\n",
    "from stravadataanalysis.src.view import plot\n",
    "\n",
    "runs_activities = runs[runs['workout_type'] != 3].reset_index()\n",
    "metrics = split_metrics.extract_split_metrics(runs_activities)\n",
    "\n",
    "plot.plot_split_metric_heartrate(metrics)\n",
    "plot.plot_split_metric_speed(metrics)"
   ],
   "metadata": {
    "collapsed": false
   }
  },
  {
   "cell_type": "markdown",
   "source": [],
   "metadata": {
    "collapsed": false
   }
  }
 ],
 "metadata": {
  "kernelspec": {
   "display_name": "Python 3",
   "language": "python",
   "name": "python3"
  },
  "language_info": {
   "codemirror_mode": {
    "name": "ipython",
    "version": 2
   },
   "file_extension": ".py",
   "mimetype": "text/x-python",
   "name": "python",
   "nbconvert_exporter": "python",
   "pygments_lexer": "ipython2",
   "version": "2.7.6"
  }
 },
 "nbformat": 4,
 "nbformat_minor": 0
}
