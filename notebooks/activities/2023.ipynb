{
 "cells": [
  {
   "cell_type": "markdown",
   "source": [
    "# 2023 Activities\n",
    "\n",
    "Overview of my activities in 2023"
   ],
   "metadata": {
    "collapsed": false
   },
   "id": "fd041d0d60bec1d6"
  },
  {
   "cell_type": "code",
   "execution_count": 1,
   "outputs": [],
   "source": [
    "%load_ext autoreload\n",
    "%autoreload 2\n",
    "\n",
    "import os\n",
    "import sys\n",
    "\n",
    "module_path = os.path.abspath(os.path.join('../../stravadataanalysis'))\n",
    "sys.path.insert(0, module_path)\n",
    "\n",
    "activities_path = '../../.tmp/'"
   ],
   "metadata": {
    "collapsed": false,
    "ExecuteTime": {
     "end_time": "2023-09-29T14:59:22.752658Z",
     "start_time": "2023-09-29T14:59:22.730472Z"
    }
   },
   "id": "500920e99c28a80e"
  },
  {
   "cell_type": "code",
   "execution_count": 2,
   "outputs": [
    {
     "name": "stdout",
     "output_type": "stream",
     "text": [
      "Total activities :  78\n",
      "Activities total time :  70:59:51\n",
      "Activities total distance :  796.27km\n"
     ]
    }
   ],
   "source": [
    "from stravadataanalysis.src.repository import data_loader\n",
    "from stravadataanalysis.src.view import data_format\n",
    "from stravadataanalysis.src.domain import overview\n",
    "\n",
    "activities_2023 = data_loader.load_athlete_activities(activities_path + 'athlete_activities.json', 2023)\n",
    "overview_2023 = overview.get_overview(activities_2023)\n",
    "\n",
    "activities_count = int(overview_2023['count'].sum())\n",
    "print(\"Total activities : \", activities_count)\n",
    "\n",
    "total_seconds = int(overview_2023['sum_moving_time'].sum())\n",
    "print(\"Activities total time : \", data_format.seconds_as_hhmmss(total_seconds))\n",
    "\n",
    "total_distance = int(overview_2023['sum_distance'].sum())\n",
    "print(\"Activities total distance : \", data_format.m_as_km(total_distance))"
   ],
   "metadata": {
    "collapsed": false,
    "ExecuteTime": {
     "end_time": "2023-09-29T14:59:23.210602Z",
     "start_time": "2023-09-29T14:59:22.755865Z"
    }
   },
   "id": "368a32c94a058e25"
  },
  {
   "cell_type": "code",
   "execution_count": 3,
   "outputs": [
    {
     "data": {
      "text/plain": "        sum_distance_overview mean_distance_overview sum_moving_time_overview  \\\ntype                                                                            \nRide                 200.32km                13.35km                 10:08:56   \nRun                  520.38km                 10.2km                 47:37:51   \nWalk                  43.71km                 5.46km                 10:14:45   \nWorkout               31.87km                 7.97km                 02:58:19   \n\n        mean_moving_time_overview  \ntype                               \nRide                     00:40:35  \nRun                      00:56:02  \nWalk                     01:16:50  \nWorkout                  00:44:34  ",
      "text/html": "<div>\n<style scoped>\n    .dataframe tbody tr th:only-of-type {\n        vertical-align: middle;\n    }\n\n    .dataframe tbody tr th {\n        vertical-align: top;\n    }\n\n    .dataframe thead th {\n        text-align: right;\n    }\n</style>\n<table border=\"1\" class=\"dataframe\">\n  <thead>\n    <tr style=\"text-align: right;\">\n      <th></th>\n      <th>sum_distance_overview</th>\n      <th>mean_distance_overview</th>\n      <th>sum_moving_time_overview</th>\n      <th>mean_moving_time_overview</th>\n    </tr>\n    <tr>\n      <th>type</th>\n      <th></th>\n      <th></th>\n      <th></th>\n      <th></th>\n    </tr>\n  </thead>\n  <tbody>\n    <tr>\n      <th>Ride</th>\n      <td>200.32km</td>\n      <td>13.35km</td>\n      <td>10:08:56</td>\n      <td>00:40:35</td>\n    </tr>\n    <tr>\n      <th>Run</th>\n      <td>520.38km</td>\n      <td>10.2km</td>\n      <td>47:37:51</td>\n      <td>00:56:02</td>\n    </tr>\n    <tr>\n      <th>Walk</th>\n      <td>43.71km</td>\n      <td>5.46km</td>\n      <td>10:14:45</td>\n      <td>01:16:50</td>\n    </tr>\n    <tr>\n      <th>Workout</th>\n      <td>31.87km</td>\n      <td>7.97km</td>\n      <td>02:58:19</td>\n      <td>00:44:34</td>\n    </tr>\n  </tbody>\n</table>\n</div>"
     },
     "metadata": {},
     "output_type": "display_data"
    }
   ],
   "source": [
    "overview_2023['sum_distance_overview'] = overview_2023['sum_distance'].apply(data_format.m_as_km)\n",
    "overview_2023['mean_distance_overview'] = overview_2023['mean_distance'].apply(data_format.m_as_km)\n",
    "overview_2023['sum_moving_time_overview'] = overview_2023['sum_moving_time'].apply(data_format.seconds_as_hhmmss)\n",
    "overview_2023['mean_moving_time_overview'] = overview_2023['mean_moving_time'].apply(data_format.seconds_as_hhmmss)\n",
    "\n",
    "display(overview_2023[['sum_distance_overview', 'mean_distance_overview', 'sum_moving_time_overview',\n",
    "                       'mean_moving_time_overview']])\n"
   ],
   "metadata": {
    "collapsed": false,
    "ExecuteTime": {
     "end_time": "2023-09-29T14:59:23.226526Z",
     "start_time": "2023-09-29T14:59:23.208902Z"
    }
   },
   "id": "a0d036a3c571d0"
  },
  {
   "cell_type": "code",
   "execution_count": 3,
   "outputs": [],
   "source": [],
   "metadata": {
    "collapsed": false,
    "ExecuteTime": {
     "end_time": "2023-09-29T14:59:23.244792Z",
     "start_time": "2023-09-29T14:59:23.226163Z"
    }
   },
   "id": "97e844a55fe90e47"
  }
 ],
 "metadata": {
  "kernelspec": {
   "display_name": "Python 3",
   "language": "python",
   "name": "python3"
  },
  "language_info": {
   "codemirror_mode": {
    "name": "ipython",
    "version": 2
   },
   "file_extension": ".py",
   "mimetype": "text/x-python",
   "name": "python",
   "nbconvert_exporter": "python",
   "pygments_lexer": "ipython2",
   "version": "2.7.6"
  }
 },
 "nbformat": 4,
 "nbformat_minor": 5
}
