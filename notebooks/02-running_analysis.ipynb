{
 "cells": [
  {
   "cell_type": "markdown",
   "source": [
    "# 2022 Running Analysis\n"
   ],
   "metadata": {
    "collapsed": false
   }
  },
  {
   "cell_type": "code",
   "execution_count": 6,
   "outputs": [],
   "source": [
    "import pandas as pd\n",
    "\n",
    "from stravadataanalysis.src import file_utils\n",
    "\n",
    "json_activities_2022 = file_utils.read_json_files(\"../data/2022/activities\")\n",
    "run_activities_2022 = pd.DataFrame.from_dict(json_activities_2022)\n",
    "run_activities_2022 = run_activities_2022[run_activities_2022['type'] == 'Run']\n"
   ],
   "metadata": {
    "collapsed": false
   }
  },
  {
   "cell_type": "markdown",
   "source": [
    "## 2022 Highlight"
   ],
   "metadata": {
    "collapsed": false
   }
  },
  {
   "cell_type": "code",
   "execution_count": 8,
   "outputs": [
    {
     "data": {
      "text/plain": "             highlight       value                                name  \\\n15        max_distance     21.34km          Course à pied l'après-midi   \n15        max_duration    01:50:38          Course à pied l'après-midi   \n21  max_elevation_gain        263m  Henvic / Sentier Côtier à Carantec   \n37         earlier_run    06:51:23              Course à pied le matin   \n26   max_average_speed  4:45min/km              Course à pied matinale   \n0    max_top_heartrate      192bpm         Course à pied sous la pluie   \n\n        start_date_local          id  \n15  2022-03-13T16:21:44Z  6819196468  \n15  2022-03-13T16:21:44Z  6819196468  \n21  2022-04-17T17:00:17Z  6997761739  \n37  2022-07-12T06:51:23Z  7454700738  \n26  2022-05-07T10:58:42Z  7101290577  \n0   2022-01-03T12:01:08Z  6465654440  ",
      "text/html": "<div>\n<style scoped>\n    .dataframe tbody tr th:only-of-type {\n        vertical-align: middle;\n    }\n\n    .dataframe tbody tr th {\n        vertical-align: top;\n    }\n\n    .dataframe thead th {\n        text-align: right;\n    }\n</style>\n<table border=\"1\" class=\"dataframe\">\n  <thead>\n    <tr style=\"text-align: right;\">\n      <th></th>\n      <th>highlight</th>\n      <th>value</th>\n      <th>name</th>\n      <th>start_date_local</th>\n      <th>id</th>\n    </tr>\n  </thead>\n  <tbody>\n    <tr>\n      <th>15</th>\n      <td>max_distance</td>\n      <td>21.34km</td>\n      <td>Course à pied l'après-midi</td>\n      <td>2022-03-13T16:21:44Z</td>\n      <td>6819196468</td>\n    </tr>\n    <tr>\n      <th>15</th>\n      <td>max_duration</td>\n      <td>01:50:38</td>\n      <td>Course à pied l'après-midi</td>\n      <td>2022-03-13T16:21:44Z</td>\n      <td>6819196468</td>\n    </tr>\n    <tr>\n      <th>21</th>\n      <td>max_elevation_gain</td>\n      <td>263m</td>\n      <td>Henvic / Sentier Côtier à Carantec</td>\n      <td>2022-04-17T17:00:17Z</td>\n      <td>6997761739</td>\n    </tr>\n    <tr>\n      <th>37</th>\n      <td>earlier_run</td>\n      <td>06:51:23</td>\n      <td>Course à pied le matin</td>\n      <td>2022-07-12T06:51:23Z</td>\n      <td>7454700738</td>\n    </tr>\n    <tr>\n      <th>26</th>\n      <td>max_average_speed</td>\n      <td>4:45min/km</td>\n      <td>Course à pied matinale</td>\n      <td>2022-05-07T10:58:42Z</td>\n      <td>7101290577</td>\n    </tr>\n    <tr>\n      <th>0</th>\n      <td>max_top_heartrate</td>\n      <td>192bpm</td>\n      <td>Course à pied sous la pluie</td>\n      <td>2022-01-03T12:01:08Z</td>\n      <td>6465654440</td>\n    </tr>\n  </tbody>\n</table>\n</div>"
     },
     "execution_count": 8,
     "metadata": {},
     "output_type": "execute_result"
    }
   ],
   "source": [
    "from datetime import datetime\n",
    "\n",
    "from stravadataanalysis.src import data_display\n",
    "from stravadataanalysis.src.strava import highlights\n",
    "\n",
    "run_activities_2022['start_time'] = run_activities_2022['start_date_local'].apply(lambda x: datetime.strptime(x, \"%Y-%m-%dT%H:%M:%SZ\").time())\n",
    "\n",
    "highlights_requests = [\n",
    "    highlights.Highlight('max_distance', 'distance', display_function=data_display.m_as_km),\n",
    "    highlights.Highlight('max_duration', 'elapsed_time', display_function=lambda x: data_display.seconds_as_hhmmss(int(x))),\n",
    "    highlights.Highlight('max_elevation_gain', 'total_elevation_gain', display_function=data_display.m),\n",
    "    highlights.Highlight('earlier_run', 'start_time', ascending_sort_order=True),\n",
    "    highlights.Highlight('max_average_speed', 'average_speed', data_display.mps_as_minpkm),\n",
    "    highlights.Highlight('max_top_heartrate', 'max_heartrate', data_display.bpm),\n",
    "]\n",
    "\n",
    "columns = [\"highlight\", \"value\", \"name\", \"start_date_local\", \"id\"]\n",
    "\n",
    "highlights_2022 = []\n",
    "for highlight_request in highlights_requests:\n",
    "    highlight = highlight_request.transform(run_activities_2022)\n",
    "    highlights_2022.append(highlight)\n",
    "\n",
    "pd.DataFrame(highlights_2022, columns=columns)"
   ],
   "metadata": {
    "collapsed": false
   }
  },
  {
   "cell_type": "markdown",
   "source": [
    "## Segments\n",
    "Top 10 segments of the year :"
   ],
   "metadata": {
    "collapsed": false
   }
  },
  {
   "cell_type": "code",
   "execution_count": 9,
   "outputs": [
    {
     "data": {
      "text/plain": "           id  count                                               name\n84   20310261     30  passage à côté du stade jusqu'au terrain de te...\n42   13276220     17                                 Retour depuis pont\n5     5403095     15                                        1km Chezine\n81   20263817     15             vers aire de jeu du parc de la Chézine\n79   20263702     14            Chézine partie sud du circuit principal\n15    6899362     13                     Montée de l'Avenue des Acacias\n94   22650322     13                 Bassin de la Chezine --> 2ème pont\n74   19642112     13                                           chez moi\n111  27607808     12                Pont Jules César --> Bd du Massacre\n83   20310176     12                      La Gourmette vers bout du lac",
      "text/html": "<div>\n<style scoped>\n    .dataframe tbody tr th:only-of-type {\n        vertical-align: middle;\n    }\n\n    .dataframe tbody tr th {\n        vertical-align: top;\n    }\n\n    .dataframe thead th {\n        text-align: right;\n    }\n</style>\n<table border=\"1\" class=\"dataframe\">\n  <thead>\n    <tr style=\"text-align: right;\">\n      <th></th>\n      <th>id</th>\n      <th>count</th>\n      <th>name</th>\n    </tr>\n  </thead>\n  <tbody>\n    <tr>\n      <th>84</th>\n      <td>20310261</td>\n      <td>30</td>\n      <td>passage à côté du stade jusqu'au terrain de te...</td>\n    </tr>\n    <tr>\n      <th>42</th>\n      <td>13276220</td>\n      <td>17</td>\n      <td>Retour depuis pont</td>\n    </tr>\n    <tr>\n      <th>5</th>\n      <td>5403095</td>\n      <td>15</td>\n      <td>1km Chezine</td>\n    </tr>\n    <tr>\n      <th>81</th>\n      <td>20263817</td>\n      <td>15</td>\n      <td>vers aire de jeu du parc de la Chézine</td>\n    </tr>\n    <tr>\n      <th>79</th>\n      <td>20263702</td>\n      <td>14</td>\n      <td>Chézine partie sud du circuit principal</td>\n    </tr>\n    <tr>\n      <th>15</th>\n      <td>6899362</td>\n      <td>13</td>\n      <td>Montée de l'Avenue des Acacias</td>\n    </tr>\n    <tr>\n      <th>94</th>\n      <td>22650322</td>\n      <td>13</td>\n      <td>Bassin de la Chezine --&gt; 2ème pont</td>\n    </tr>\n    <tr>\n      <th>74</th>\n      <td>19642112</td>\n      <td>13</td>\n      <td>chez moi</td>\n    </tr>\n    <tr>\n      <th>111</th>\n      <td>27607808</td>\n      <td>12</td>\n      <td>Pont Jules César --&gt; Bd du Massacre</td>\n    </tr>\n    <tr>\n      <th>83</th>\n      <td>20310176</td>\n      <td>12</td>\n      <td>La Gourmette vers bout du lac</td>\n    </tr>\n  </tbody>\n</table>\n</div>"
     },
     "metadata": {},
     "output_type": "display_data"
    }
   ],
   "source": [
    "import itertools\n",
    "\n",
    "from stravadataanalysis.src.strava import segments\n",
    "\n",
    "activities_segments = run_activities_2022['segment_efforts'].apply(segments.extract_segments)\n",
    "segments_2022 = pd.DataFrame(itertools.chain.from_iterable(activities_segments.values))\n",
    "\n",
    "top_10_segments = segments_2022.groupby(['id']).agg(count=('id', 'count'), name=('name', 'min'))[['count', 'name']].reset_index().sort_values(\n",
    "    by=('count'), ascending=False).head(10)\n",
    "display(top_10_segments)\n",
    "\n"
   ],
   "metadata": {
    "collapsed": false
   }
  },
  {
   "cell_type": "markdown",
   "source": [],
   "metadata": {
    "collapsed": false
   }
  }
 ],
 "metadata": {
  "kernelspec": {
   "display_name": "Python 3",
   "language": "python",
   "name": "python3"
  },
  "language_info": {
   "codemirror_mode": {
    "name": "ipython",
    "version": 2
   },
   "file_extension": ".py",
   "mimetype": "text/x-python",
   "name": "python",
   "nbconvert_exporter": "python",
   "pygments_lexer": "ipython2",
   "version": "2.7.6"
  }
 },
 "nbformat": 4,
 "nbformat_minor": 0
}
