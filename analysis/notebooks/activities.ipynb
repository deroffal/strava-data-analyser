{
 "cells": [
  {
   "cell_type": "markdown",
   "source": [
    "# Year's Activities"
   ],
   "metadata": {
    "collapsed": false
   },
   "id": "fd041d0d60bec1d6"
  },
  {
   "cell_type": "code",
   "outputs": [],
   "source": [
    "# Either a year, or None for all time activities\n",
    "# year = None\n",
    "year = 2024"
   ],
   "metadata": {
    "collapsed": false,
    "ExecuteTime": {
     "end_time": "2024-02-12T21:05:27.130576Z",
     "start_time": "2024-02-12T21:05:27.123754Z"
    }
   },
   "id": "8a461b6775dfc942",
   "execution_count": 5
  },
  {
   "cell_type": "code",
   "outputs": [
    {
     "data": {
      "text/plain": "<IPython.core.display.Markdown object>",
      "text/markdown": "Overview of my activities in 2022"
     },
     "execution_count": 6,
     "metadata": {},
     "output_type": "execute_result"
    }
   ],
   "source": [
    "from IPython.display import Markdown as md\n",
    "\n",
    "md(\"Overview of my activities in {}\".format(year))"
   ],
   "metadata": {
    "collapsed": false,
    "ExecuteTime": {
     "end_time": "2024-02-12T21:05:27.131817Z",
     "start_time": "2024-02-12T21:05:27.128113Z"
    }
   },
   "id": "37bb1b27580f26f7",
   "execution_count": 6
  },
  {
   "cell_type": "code",
   "outputs": [
    {
     "data": {
      "text/plain": "                         _id          id               external_id  \\\n0   65ca843480bd1c3701b22202  6465654440    garmin_push_8053211946   \n1   65ca843480bd1c3701b22204  6497819499    garmin_push_8089045879   \n2   65ca843480bd1c3701b22206  6516576106    garmin_push_8110159644   \n3   65ca843480bd1c3701b22208  6553064943    garmin_push_8150556820   \n4   65ca843480bd1c3701b2220a  6570536821    garmin_push_8169740237   \n..                       ...         ...                       ...   \n71  65ca87e42f8685056b306239  8204762747  garmin_ping_249659815330   \n72  65ca87e42f8685056b30623b  8237055648  garmin_ping_250637578603   \n73  65ca87e42f8685056b30623d  8292080669  garmin_ping_252525460130   \n74  65ca87e42f8685056b30623f  8296835182  garmin_ping_252668986643   \n75  65ca87e42f8685056b306241  8627162266  garmin_ping_261897421080   \n\n     upload_id            athlete                                name  \\\n0   6874553669  {'_id': 42223740}         Course à pied sous la pluie   \n1   6908995815  {'_id': 42223740}          Course à pied l'après-midi   \n2   6929020481  {'_id': 42223740}               Course à pied le midi   \n3   6968078412  {'_id': 42223740}               Course à pied le midi   \n4   6986806689  {'_id': 42223740}          Course à pied l'après-midi   \n..         ...                ...                                 ...   \n71  8790113975  {'_id': 42223740}              Course à pied le matin   \n72  8827055335  {'_id': 42223740}  Course à pied dans l'après-midi 🥶🌛   \n73  8889039469  {'_id': 42223740}              Course à pied le matin   \n74  8894431515  {'_id': 42223740}              Forêt, dunes et plage    \n75  9261326263  {'_id': 42223740}     Course à pied dans l'après-midi   \n\n        distance  moving_time  elapsed_time  total_elevation_gain  ...  \\\n0   10497.700195         3363          3368             27.700001  ...   \n1   13005.700195         4251          4255            117.099998  ...   \n2   12729.500000         4057          4070             15.000000  ...   \n3   12032.200195         3746          3782             55.500000  ...   \n4   12453.299805         3955          3967             37.000000  ...   \n..           ...          ...           ...                   ...  ...   \n71   8716.000000         2579          2579             33.599998  ...   \n72  14999.099609         4805          4819             67.900002  ...   \n73   5655.000000         2293          2300             58.000000  ...   \n74  13264.900391         4472          4559             75.300003  ...   \n75   4123.700195         1904          1904             28.600000  ...   \n\n    commute  manual _private flagged workout_type upload_id_str average_speed  \\\n0     False   False    False   False          3.0    6874553669         3.122   \n1     False   False    False   False          NaN    6908995815         3.059   \n2     False   False    False   False          NaN    6929020481         3.138   \n3     False   False    False   False          NaN    6968078412         3.212   \n4     False   False    False   False          3.0    6986806689         3.149   \n..      ...     ...      ...     ...          ...           ...           ...   \n71    False   False    False   False          NaN    8790113975         3.380   \n72    False   False    False   False          0.0    8827055335         3.122   \n73    False   False    False   False          NaN    8889039469         2.466   \n74    False   False    False   False          0.0    8894431515         2.966   \n75    False   False     True   False          0.0    9261326263         2.166   \n\n   max_speed has_kudoed                                             _class  \n0      4.766      False  fr.deroffal.stravastatistics.repository.Summar...  \n1      5.342      False  fr.deroffal.stravastatistics.repository.Summar...  \n2      4.360      False  fr.deroffal.stravastatistics.repository.Summar...  \n3      6.130      False  fr.deroffal.stravastatistics.repository.Summar...  \n4      5.195      False  fr.deroffal.stravastatistics.repository.Summar...  \n..       ...        ...                                                ...  \n71     4.541      False  fr.deroffal.stravastatistics.repository.Summar...  \n72     4.226      False  fr.deroffal.stravastatistics.repository.Summar...  \n73     4.119      False  fr.deroffal.stravastatistics.repository.Summar...  \n74     4.253      False  fr.deroffal.stravastatistics.repository.Summar...  \n75     3.206      False  fr.deroffal.stravastatistics.repository.Summar...  \n\n[76 rows x 37 columns]",
      "text/html": "<div>\n<style scoped>\n    .dataframe tbody tr th:only-of-type {\n        vertical-align: middle;\n    }\n\n    .dataframe tbody tr th {\n        vertical-align: top;\n    }\n\n    .dataframe thead th {\n        text-align: right;\n    }\n</style>\n<table border=\"1\" class=\"dataframe\">\n  <thead>\n    <tr style=\"text-align: right;\">\n      <th></th>\n      <th>_id</th>\n      <th>id</th>\n      <th>external_id</th>\n      <th>upload_id</th>\n      <th>athlete</th>\n      <th>name</th>\n      <th>distance</th>\n      <th>moving_time</th>\n      <th>elapsed_time</th>\n      <th>total_elevation_gain</th>\n      <th>...</th>\n      <th>commute</th>\n      <th>manual</th>\n      <th>_private</th>\n      <th>flagged</th>\n      <th>workout_type</th>\n      <th>upload_id_str</th>\n      <th>average_speed</th>\n      <th>max_speed</th>\n      <th>has_kudoed</th>\n      <th>_class</th>\n    </tr>\n  </thead>\n  <tbody>\n    <tr>\n      <th>0</th>\n      <td>65ca843480bd1c3701b22202</td>\n      <td>6465654440</td>\n      <td>garmin_push_8053211946</td>\n      <td>6874553669</td>\n      <td>{'_id': 42223740}</td>\n      <td>Course à pied sous la pluie</td>\n      <td>10497.700195</td>\n      <td>3363</td>\n      <td>3368</td>\n      <td>27.700001</td>\n      <td>...</td>\n      <td>False</td>\n      <td>False</td>\n      <td>False</td>\n      <td>False</td>\n      <td>3.0</td>\n      <td>6874553669</td>\n      <td>3.122</td>\n      <td>4.766</td>\n      <td>False</td>\n      <td>fr.deroffal.stravastatistics.repository.Summar...</td>\n    </tr>\n    <tr>\n      <th>1</th>\n      <td>65ca843480bd1c3701b22204</td>\n      <td>6497819499</td>\n      <td>garmin_push_8089045879</td>\n      <td>6908995815</td>\n      <td>{'_id': 42223740}</td>\n      <td>Course à pied l'après-midi</td>\n      <td>13005.700195</td>\n      <td>4251</td>\n      <td>4255</td>\n      <td>117.099998</td>\n      <td>...</td>\n      <td>False</td>\n      <td>False</td>\n      <td>False</td>\n      <td>False</td>\n      <td>NaN</td>\n      <td>6908995815</td>\n      <td>3.059</td>\n      <td>5.342</td>\n      <td>False</td>\n      <td>fr.deroffal.stravastatistics.repository.Summar...</td>\n    </tr>\n    <tr>\n      <th>2</th>\n      <td>65ca843480bd1c3701b22206</td>\n      <td>6516576106</td>\n      <td>garmin_push_8110159644</td>\n      <td>6929020481</td>\n      <td>{'_id': 42223740}</td>\n      <td>Course à pied le midi</td>\n      <td>12729.500000</td>\n      <td>4057</td>\n      <td>4070</td>\n      <td>15.000000</td>\n      <td>...</td>\n      <td>False</td>\n      <td>False</td>\n      <td>False</td>\n      <td>False</td>\n      <td>NaN</td>\n      <td>6929020481</td>\n      <td>3.138</td>\n      <td>4.360</td>\n      <td>False</td>\n      <td>fr.deroffal.stravastatistics.repository.Summar...</td>\n    </tr>\n    <tr>\n      <th>3</th>\n      <td>65ca843480bd1c3701b22208</td>\n      <td>6553064943</td>\n      <td>garmin_push_8150556820</td>\n      <td>6968078412</td>\n      <td>{'_id': 42223740}</td>\n      <td>Course à pied le midi</td>\n      <td>12032.200195</td>\n      <td>3746</td>\n      <td>3782</td>\n      <td>55.500000</td>\n      <td>...</td>\n      <td>False</td>\n      <td>False</td>\n      <td>False</td>\n      <td>False</td>\n      <td>NaN</td>\n      <td>6968078412</td>\n      <td>3.212</td>\n      <td>6.130</td>\n      <td>False</td>\n      <td>fr.deroffal.stravastatistics.repository.Summar...</td>\n    </tr>\n    <tr>\n      <th>4</th>\n      <td>65ca843480bd1c3701b2220a</td>\n      <td>6570536821</td>\n      <td>garmin_push_8169740237</td>\n      <td>6986806689</td>\n      <td>{'_id': 42223740}</td>\n      <td>Course à pied l'après-midi</td>\n      <td>12453.299805</td>\n      <td>3955</td>\n      <td>3967</td>\n      <td>37.000000</td>\n      <td>...</td>\n      <td>False</td>\n      <td>False</td>\n      <td>False</td>\n      <td>False</td>\n      <td>3.0</td>\n      <td>6986806689</td>\n      <td>3.149</td>\n      <td>5.195</td>\n      <td>False</td>\n      <td>fr.deroffal.stravastatistics.repository.Summar...</td>\n    </tr>\n    <tr>\n      <th>...</th>\n      <td>...</td>\n      <td>...</td>\n      <td>...</td>\n      <td>...</td>\n      <td>...</td>\n      <td>...</td>\n      <td>...</td>\n      <td>...</td>\n      <td>...</td>\n      <td>...</td>\n      <td>...</td>\n      <td>...</td>\n      <td>...</td>\n      <td>...</td>\n      <td>...</td>\n      <td>...</td>\n      <td>...</td>\n      <td>...</td>\n      <td>...</td>\n      <td>...</td>\n      <td>...</td>\n    </tr>\n    <tr>\n      <th>71</th>\n      <td>65ca87e42f8685056b306239</td>\n      <td>8204762747</td>\n      <td>garmin_ping_249659815330</td>\n      <td>8790113975</td>\n      <td>{'_id': 42223740}</td>\n      <td>Course à pied le matin</td>\n      <td>8716.000000</td>\n      <td>2579</td>\n      <td>2579</td>\n      <td>33.599998</td>\n      <td>...</td>\n      <td>False</td>\n      <td>False</td>\n      <td>False</td>\n      <td>False</td>\n      <td>NaN</td>\n      <td>8790113975</td>\n      <td>3.380</td>\n      <td>4.541</td>\n      <td>False</td>\n      <td>fr.deroffal.stravastatistics.repository.Summar...</td>\n    </tr>\n    <tr>\n      <th>72</th>\n      <td>65ca87e42f8685056b30623b</td>\n      <td>8237055648</td>\n      <td>garmin_ping_250637578603</td>\n      <td>8827055335</td>\n      <td>{'_id': 42223740}</td>\n      <td>Course à pied dans l'après-midi 🥶🌛</td>\n      <td>14999.099609</td>\n      <td>4805</td>\n      <td>4819</td>\n      <td>67.900002</td>\n      <td>...</td>\n      <td>False</td>\n      <td>False</td>\n      <td>False</td>\n      <td>False</td>\n      <td>0.0</td>\n      <td>8827055335</td>\n      <td>3.122</td>\n      <td>4.226</td>\n      <td>False</td>\n      <td>fr.deroffal.stravastatistics.repository.Summar...</td>\n    </tr>\n    <tr>\n      <th>73</th>\n      <td>65ca87e42f8685056b30623d</td>\n      <td>8292080669</td>\n      <td>garmin_ping_252525460130</td>\n      <td>8889039469</td>\n      <td>{'_id': 42223740}</td>\n      <td>Course à pied le matin</td>\n      <td>5655.000000</td>\n      <td>2293</td>\n      <td>2300</td>\n      <td>58.000000</td>\n      <td>...</td>\n      <td>False</td>\n      <td>False</td>\n      <td>False</td>\n      <td>False</td>\n      <td>NaN</td>\n      <td>8889039469</td>\n      <td>2.466</td>\n      <td>4.119</td>\n      <td>False</td>\n      <td>fr.deroffal.stravastatistics.repository.Summar...</td>\n    </tr>\n    <tr>\n      <th>74</th>\n      <td>65ca87e42f8685056b30623f</td>\n      <td>8296835182</td>\n      <td>garmin_ping_252668986643</td>\n      <td>8894431515</td>\n      <td>{'_id': 42223740}</td>\n      <td>Forêt, dunes et plage</td>\n      <td>13264.900391</td>\n      <td>4472</td>\n      <td>4559</td>\n      <td>75.300003</td>\n      <td>...</td>\n      <td>False</td>\n      <td>False</td>\n      <td>False</td>\n      <td>False</td>\n      <td>0.0</td>\n      <td>8894431515</td>\n      <td>2.966</td>\n      <td>4.253</td>\n      <td>False</td>\n      <td>fr.deroffal.stravastatistics.repository.Summar...</td>\n    </tr>\n    <tr>\n      <th>75</th>\n      <td>65ca87e42f8685056b306241</td>\n      <td>8627162266</td>\n      <td>garmin_ping_261897421080</td>\n      <td>9261326263</td>\n      <td>{'_id': 42223740}</td>\n      <td>Course à pied dans l'après-midi</td>\n      <td>4123.700195</td>\n      <td>1904</td>\n      <td>1904</td>\n      <td>28.600000</td>\n      <td>...</td>\n      <td>False</td>\n      <td>False</td>\n      <td>True</td>\n      <td>False</td>\n      <td>0.0</td>\n      <td>9261326263</td>\n      <td>2.166</td>\n      <td>3.206</td>\n      <td>False</td>\n      <td>fr.deroffal.stravastatistics.repository.Summar...</td>\n    </tr>\n  </tbody>\n</table>\n<p>76 rows × 37 columns</p>\n</div>"
     },
     "execution_count": 7,
     "metadata": {},
     "output_type": "execute_result"
    }
   ],
   "source": [
    "from analysis.src.repository import loader\n",
    "\n",
    "activities = loader.load_activities('mongo', year)\n",
    "activities\n"
   ],
   "metadata": {
    "collapsed": false,
    "ExecuteTime": {
     "end_time": "2024-02-12T21:05:27.182324Z",
     "start_time": "2024-02-12T21:05:27.134652Z"
    }
   },
   "id": "1221f48b2c83effa",
   "execution_count": 7
  },
  {
   "cell_type": "code",
   "execution_count": 8,
   "outputs": [
    {
     "name": "stdout",
     "output_type": "stream",
     "text": [
      "Total activities :  76\n",
      "Activities total time :  79:10:07\n",
      "Activities total distance :  914.66km\n"
     ]
    }
   ],
   "source": [
    "from analysis.src.view import data_format\n",
    "from analysis.src.domain import overview\n",
    "\n",
    "overview = overview.get_overview(activities)\n",
    "\n",
    "activities_count = int(overview['count'].sum())\n",
    "print(\"Total activities : \", activities_count)\n",
    "\n",
    "total_seconds = int(overview['sum_moving_time'].sum())\n",
    "print(\"Activities total time : \", data_format.seconds_as_hhmmss(total_seconds))\n",
    "\n",
    "total_distance = int(overview['sum_distance'].sum())\n",
    "print(\"Activities total distance : \", data_format.m_as_km(total_distance))"
   ],
   "metadata": {
    "collapsed": false,
    "ExecuteTime": {
     "end_time": "2024-02-12T21:05:27.220602Z",
     "start_time": "2024-02-12T21:05:27.191138Z"
    }
   },
   "id": "368a32c94a058e25"
  },
  {
   "cell_type": "code",
   "execution_count": 9,
   "outputs": [
    {
     "data": {
      "text/plain": "        sum_distance_overview mean_distance_overview sum_moving_time_overview  \\\ntype                                                                            \nRIDE                 108.48km                18.08km                 05:11:45   \nRUN                  788.72km                11.77km                 69:16:55   \nWALK                  17.25km                 8.62km                 04:38:21   \nWORKOUT                0.21km                 0.21km                 00:03:06   \n\n        mean_moving_time_overview  \ntype                               \nRIDE                     00:51:57  \nRUN                      01:02:02  \nWALK                     02:19:10  \nWORKOUT                  00:03:06  ",
      "text/html": "<div>\n<style scoped>\n    .dataframe tbody tr th:only-of-type {\n        vertical-align: middle;\n    }\n\n    .dataframe tbody tr th {\n        vertical-align: top;\n    }\n\n    .dataframe thead th {\n        text-align: right;\n    }\n</style>\n<table border=\"1\" class=\"dataframe\">\n  <thead>\n    <tr style=\"text-align: right;\">\n      <th></th>\n      <th>sum_distance_overview</th>\n      <th>mean_distance_overview</th>\n      <th>sum_moving_time_overview</th>\n      <th>mean_moving_time_overview</th>\n    </tr>\n    <tr>\n      <th>type</th>\n      <th></th>\n      <th></th>\n      <th></th>\n      <th></th>\n    </tr>\n  </thead>\n  <tbody>\n    <tr>\n      <th>RIDE</th>\n      <td>108.48km</td>\n      <td>18.08km</td>\n      <td>05:11:45</td>\n      <td>00:51:57</td>\n    </tr>\n    <tr>\n      <th>RUN</th>\n      <td>788.72km</td>\n      <td>11.77km</td>\n      <td>69:16:55</td>\n      <td>01:02:02</td>\n    </tr>\n    <tr>\n      <th>WALK</th>\n      <td>17.25km</td>\n      <td>8.62km</td>\n      <td>04:38:21</td>\n      <td>02:19:10</td>\n    </tr>\n    <tr>\n      <th>WORKOUT</th>\n      <td>0.21km</td>\n      <td>0.21km</td>\n      <td>00:03:06</td>\n      <td>00:03:06</td>\n    </tr>\n  </tbody>\n</table>\n</div>"
     },
     "metadata": {},
     "output_type": "display_data"
    }
   ],
   "source": [
    "overview['sum_distance_overview'] = overview['sum_distance'].apply(data_format.m_as_km)\n",
    "overview['mean_distance_overview'] = overview['mean_distance'].apply(data_format.m_as_km)\n",
    "overview['sum_moving_time_overview'] = overview['sum_moving_time'].apply(data_format.seconds_as_hhmmss)\n",
    "overview['mean_moving_time_overview'] = overview['mean_moving_time'].apply(data_format.seconds_as_hhmmss)\n",
    "\n",
    "display(overview[['sum_distance_overview', 'mean_distance_overview', 'sum_moving_time_overview',\n",
    "                       'mean_moving_time_overview']])\n"
   ],
   "metadata": {
    "collapsed": false,
    "ExecuteTime": {
     "end_time": "2024-02-12T21:05:27.230544Z",
     "start_time": "2024-02-12T21:05:27.209346Z"
    }
   },
   "id": "a0d036a3c571d0"
  }
 ],
 "metadata": {
  "kernelspec": {
   "display_name": "Python 3",
   "language": "python",
   "name": "python3"
  },
  "language_info": {
   "codemirror_mode": {
    "name": "ipython",
    "version": 2
   },
   "file_extension": ".py",
   "mimetype": "text/x-python",
   "name": "python",
   "nbconvert_exporter": "python",
   "pygments_lexer": "ipython2",
   "version": "2.7.6"
  }
 },
 "nbformat": 4,
 "nbformat_minor": 5
}
