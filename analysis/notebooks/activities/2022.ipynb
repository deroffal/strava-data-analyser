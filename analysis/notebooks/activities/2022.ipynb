{
 "cells": [
  {
   "cell_type": "markdown",
   "source": [
    "# 2022 Activities\n",
    "\n",
    "Overview of my activities in 2022"
   ],
   "metadata": {
    "collapsed": false
   },
   "id": "fd041d0d60bec1d6"
  },
  {
   "cell_type": "code",
   "execution_count": 1,
   "outputs": [],
   "source": [
    "%load_ext autoreload\n",
    "%autoreload 2"
   ],
   "metadata": {
    "collapsed": false,
    "ExecuteTime": {
     "end_time": "2024-02-08T20:07:09.866144Z",
     "start_time": "2024-02-08T20:07:09.855069Z"
    }
   },
   "id": "500920e99c28a80e"
  },
  {
   "cell_type": "code",
   "execution_count": 3,
   "outputs": [
    {
     "name": "stdout",
     "output_type": "stream",
     "text": [
      "Total activities :  76\n",
      "Activities total time :  79:10:07\n",
      "Activities total distance :  914.66km\n"
     ]
    }
   ],
   "source": [
    "from analysis.src.repository import file_loader\n",
    "from analysis.src.view import data_format\n",
    "from analysis.src.domain import overview\n",
    "\n",
    "activities_path = '../../../.tmp/'\n",
    "activities_2022 = file_loader.load_athlete_activities(activities_path + \"/athlete_activities.json\", 2022)\n",
    "overview_2022 = overview.get_overview(activities_2022)\n",
    "\n",
    "activities_count = int(overview_2022['count'].sum())\n",
    "print(\"Total activities : \", activities_count)\n",
    "\n",
    "total_seconds = int(overview_2022['sum_moving_time'].sum())\n",
    "print(\"Activities total time : \", data_format.seconds_as_hhmmss(total_seconds))\n",
    "\n",
    "total_distance = int(overview_2022['sum_distance'].sum())\n",
    "print(\"Activities total distance : \", data_format.m_as_km(total_distance))"
   ],
   "metadata": {
    "collapsed": false,
    "ExecuteTime": {
     "end_time": "2024-02-08T20:08:14.246195Z",
     "start_time": "2024-02-08T20:08:14.182892Z"
    }
   },
   "id": "368a32c94a058e25"
  },
  {
   "cell_type": "code",
   "execution_count": 4,
   "outputs": [
    {
     "data": {
      "text/plain": "        sum_distance_overview mean_distance_overview sum_moving_time_overview  \\\ntype                                                                            \nRide                 108.48km                18.08km                 05:11:45   \nRun                  788.72km                11.77km                 69:16:55   \nWalk                  17.25km                 8.62km                 04:38:21   \nWorkout                0.21km                 0.21km                 00:03:06   \n\n        mean_moving_time_overview  \ntype                               \nRide                     00:51:57  \nRun                      01:02:02  \nWalk                     02:19:10  \nWorkout                  00:03:06  ",
      "text/html": "<div>\n<style scoped>\n    .dataframe tbody tr th:only-of-type {\n        vertical-align: middle;\n    }\n\n    .dataframe tbody tr th {\n        vertical-align: top;\n    }\n\n    .dataframe thead th {\n        text-align: right;\n    }\n</style>\n<table border=\"1\" class=\"dataframe\">\n  <thead>\n    <tr style=\"text-align: right;\">\n      <th></th>\n      <th>sum_distance_overview</th>\n      <th>mean_distance_overview</th>\n      <th>sum_moving_time_overview</th>\n      <th>mean_moving_time_overview</th>\n    </tr>\n    <tr>\n      <th>type</th>\n      <th></th>\n      <th></th>\n      <th></th>\n      <th></th>\n    </tr>\n  </thead>\n  <tbody>\n    <tr>\n      <th>Ride</th>\n      <td>108.48km</td>\n      <td>18.08km</td>\n      <td>05:11:45</td>\n      <td>00:51:57</td>\n    </tr>\n    <tr>\n      <th>Run</th>\n      <td>788.72km</td>\n      <td>11.77km</td>\n      <td>69:16:55</td>\n      <td>01:02:02</td>\n    </tr>\n    <tr>\n      <th>Walk</th>\n      <td>17.25km</td>\n      <td>8.62km</td>\n      <td>04:38:21</td>\n      <td>02:19:10</td>\n    </tr>\n    <tr>\n      <th>Workout</th>\n      <td>0.21km</td>\n      <td>0.21km</td>\n      <td>00:03:06</td>\n      <td>00:03:06</td>\n    </tr>\n  </tbody>\n</table>\n</div>"
     },
     "metadata": {},
     "output_type": "display_data"
    }
   ],
   "source": [
    "overview_2022['sum_distance_overview'] = overview_2022['sum_distance'].apply(data_format.m_as_km)\n",
    "overview_2022['mean_distance_overview'] = overview_2022['mean_distance'].apply(data_format.m_as_km)\n",
    "overview_2022['sum_moving_time_overview'] = overview_2022['sum_moving_time'].apply(data_format.seconds_as_hhmmss)\n",
    "overview_2022['mean_moving_time_overview'] = overview_2022['mean_moving_time'].apply(data_format.seconds_as_hhmmss)\n",
    "\n",
    "display(overview_2022[['sum_distance_overview', 'mean_distance_overview', 'sum_moving_time_overview',\n",
    "                       'mean_moving_time_overview']])\n"
   ],
   "metadata": {
    "collapsed": false,
    "ExecuteTime": {
     "end_time": "2024-02-08T20:08:21.053812Z",
     "start_time": "2024-02-08T20:08:21.019740Z"
    }
   },
   "id": "a0d036a3c571d0"
  }
 ],
 "metadata": {
  "kernelspec": {
   "display_name": "Python 3",
   "language": "python",
   "name": "python3"
  },
  "language_info": {
   "codemirror_mode": {
    "name": "ipython",
    "version": 2
   },
   "file_extension": ".py",
   "mimetype": "text/x-python",
   "name": "python",
   "nbconvert_exporter": "python",
   "pygments_lexer": "ipython2",
   "version": "2.7.6"
  }
 },
 "nbformat": 4,
 "nbformat_minor": 5
}
