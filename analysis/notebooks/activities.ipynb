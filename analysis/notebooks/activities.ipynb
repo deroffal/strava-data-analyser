{
 "cells": [
  {
   "cell_type": "markdown",
   "source": [
    "# Year's Activities"
   ],
   "metadata": {
    "collapsed": false
   },
   "id": "fd041d0d60bec1d6"
  },
  {
   "cell_type": "code",
   "outputs": [],
   "source": [
    "# Either a year, or None for all time activities\n",
    "# year = None\n",
    "year = 2023"
   ],
   "metadata": {
    "collapsed": false,
    "ExecuteTime": {
     "end_time": "2024-02-28T15:59:05.620939Z",
     "start_time": "2024-02-28T15:59:05.618644Z"
    }
   },
   "id": "8a461b6775dfc942",
   "execution_count": 5
  },
  {
   "cell_type": "code",
   "outputs": [
    {
     "data": {
      "text/plain": "<IPython.core.display.Markdown object>",
      "text/markdown": "Overview of my activities in 2023"
     },
     "execution_count": 6,
     "metadata": {},
     "output_type": "execute_result"
    }
   ],
   "source": [
    "from IPython.display import Markdown as md\n",
    "\n",
    "md(\"Overview of my activities in {}\".format(year))"
   ],
   "metadata": {
    "collapsed": false,
    "ExecuteTime": {
     "end_time": "2024-02-28T15:59:05.625673Z",
     "start_time": "2024-02-28T15:59:05.622587Z"
    }
   },
   "id": "37bb1b27580f26f7",
   "execution_count": 6
  },
  {
   "cell_type": "code",
   "outputs": [
    {
     "data": {
      "text/plain": "                         _id  resource_state  \\\n0   65d8c4022ab8ad6dcdfe9cdb               2   \n1   65d8c4022ab8ad6dcdfe9cdd               2   \n2   65d8c4022ab8ad6dcdfe9cdf               2   \n3   65d8c4022ab8ad6dcdfe9ce1               2   \n4   65d8c4022ab8ad6dcdfe9ce3               2   \n..                       ...             ...   \n79  65d8c4032ab8ad6dcdfe9d79               2   \n80  65d8c4032ab8ad6dcdfe9d7b               2   \n81  65d8c4032ab8ad6dcdfe9d7d               2   \n82  65d8c4032ab8ad6dcdfe9d7f               2   \n83  65d8c4032ab8ad6dcdfe9d81               2   \n\n                                  athlete  \\\n0   {'id': 42223740, 'resource_state': 1}   \n1   {'id': 42223740, 'resource_state': 1}   \n2   {'id': 42223740, 'resource_state': 1}   \n3   {'id': 42223740, 'resource_state': 1}   \n4   {'id': 42223740, 'resource_state': 1}   \n..                                    ...   \n79  {'id': 42223740, 'resource_state': 1}   \n80  {'id': 42223740, 'resource_state': 1}   \n81  {'id': 42223740, 'resource_state': 1}   \n82  {'id': 42223740, 'resource_state': 1}   \n83  {'id': 42223740, 'resource_state': 1}   \n\n                                                 name  distance  moving_time  \\\n0   Reprise après 2 mois d'arrêt pour fracture de ...    3449.8         1344   \n1                               Course à pied le midi    5869.9         1822   \n2                               Course à pied le midi    7128.4         2267   \n3                               Course à pied le midi    8006.0         2593   \n4                               Course à pied le midi    3272.4         1375   \n..                                                ...       ...          ...   \n79                              Course à pied le midi   11339.9         3271   \n80                               Sortie vélo le matin   12540.6         2508   \n81                            Course à pied en soirée   17011.3         4807   \n82                              Course à pied le midi   12111.1         3698   \n83                               Sortie vélo le matin    7649.2         1441   \n\n    elapsed_time  total_elevation_gain  type sport_type  ...  \\\n0           1344                   0.0   Run        Run  ...   \n1           1822                  23.9   Run        Run  ...   \n2           2267                  33.4   Run        Run  ...   \n3           2593                   0.0   Run        Run  ...   \n4           1375                  18.7   Run        Run  ...   \n..           ...                   ...   ...        ...  ...   \n79          3279                  19.9   Run        Run  ...   \n80         34912                  60.9  Ride       Ride  ...   \n81          4807                  84.7   Run        Run  ...   \n82          3702                  50.4   Run        Run  ...   \n83          1618                  27.3  Ride       Ride  ...   \n\n    display_hide_heartrate_option    upload_id upload_id_str  \\\n0                            True   9261333657    9261333657   \n1                            True   9276109524    9276109524   \n2                            True   9311691223    9311691223   \n3                            True   9363193288    9363193288   \n4                            True   9368768284    9368768284   \n..                            ...          ...           ...   \n79                           True  10582171858   10582171858   \n80                           True  10597039017   10597039017   \n81                           True  10610620288   10610620288   \n82                           True  10628312740   10628312740   \n83                           True  10637182403   10637182403   \n\n                 external_id from_accepted_tag  pr_count total_photo_count  \\\n0   garmin_ping_261897567600             False         0                 0   \n1   garmin_ping_262318685973             False         0                 0   \n2   garmin_ping_263258098893             False         0                 0   \n3   garmin_ping_264620209152             False         0                 0   \n4   garmin_ping_264766053118             False         0                 0   \n..                       ...               ...       ...               ...   \n79  garmin_ping_295188495483             False        11                 0   \n80  garmin_ping_295555072712             False         0                 0   \n81  garmin_ping_295894224657             False        20                 0   \n82  garmin_ping_296335286345             False         0                 0   \n83  garmin_ping_296548969490             False         0                 0   \n\n   has_kudoed elev_high  elev_low  \n0       False       NaN       NaN  \n1       False      40.9      24.5  \n2       False      40.9      15.1  \n3       False       NaN       NaN  \n4       False      39.6      18.6  \n..        ...       ...       ...  \n79      False      22.8      -0.8  \n80      False      39.9       8.1  \n81      False      41.5       4.8  \n82      False      40.9       5.0  \n83      False      40.1       8.1  \n\n[84 rows x 51 columns]",
      "text/html": "<div>\n<style scoped>\n    .dataframe tbody tr th:only-of-type {\n        vertical-align: middle;\n    }\n\n    .dataframe tbody tr th {\n        vertical-align: top;\n    }\n\n    .dataframe thead th {\n        text-align: right;\n    }\n</style>\n<table border=\"1\" class=\"dataframe\">\n  <thead>\n    <tr style=\"text-align: right;\">\n      <th></th>\n      <th>_id</th>\n      <th>resource_state</th>\n      <th>athlete</th>\n      <th>name</th>\n      <th>distance</th>\n      <th>moving_time</th>\n      <th>elapsed_time</th>\n      <th>total_elevation_gain</th>\n      <th>type</th>\n      <th>sport_type</th>\n      <th>...</th>\n      <th>display_hide_heartrate_option</th>\n      <th>upload_id</th>\n      <th>upload_id_str</th>\n      <th>external_id</th>\n      <th>from_accepted_tag</th>\n      <th>pr_count</th>\n      <th>total_photo_count</th>\n      <th>has_kudoed</th>\n      <th>elev_high</th>\n      <th>elev_low</th>\n    </tr>\n  </thead>\n  <tbody>\n    <tr>\n      <th>0</th>\n      <td>65d8c4022ab8ad6dcdfe9cdb</td>\n      <td>2</td>\n      <td>{'id': 42223740, 'resource_state': 1}</td>\n      <td>Reprise après 2 mois d'arrêt pour fracture de ...</td>\n      <td>3449.8</td>\n      <td>1344</td>\n      <td>1344</td>\n      <td>0.0</td>\n      <td>Run</td>\n      <td>Run</td>\n      <td>...</td>\n      <td>True</td>\n      <td>9261333657</td>\n      <td>9261333657</td>\n      <td>garmin_ping_261897567600</td>\n      <td>False</td>\n      <td>0</td>\n      <td>0</td>\n      <td>False</td>\n      <td>NaN</td>\n      <td>NaN</td>\n    </tr>\n    <tr>\n      <th>1</th>\n      <td>65d8c4022ab8ad6dcdfe9cdd</td>\n      <td>2</td>\n      <td>{'id': 42223740, 'resource_state': 1}</td>\n      <td>Course à pied le midi</td>\n      <td>5869.9</td>\n      <td>1822</td>\n      <td>1822</td>\n      <td>23.9</td>\n      <td>Run</td>\n      <td>Run</td>\n      <td>...</td>\n      <td>True</td>\n      <td>9276109524</td>\n      <td>9276109524</td>\n      <td>garmin_ping_262318685973</td>\n      <td>False</td>\n      <td>0</td>\n      <td>0</td>\n      <td>False</td>\n      <td>40.9</td>\n      <td>24.5</td>\n    </tr>\n    <tr>\n      <th>2</th>\n      <td>65d8c4022ab8ad6dcdfe9cdf</td>\n      <td>2</td>\n      <td>{'id': 42223740, 'resource_state': 1}</td>\n      <td>Course à pied le midi</td>\n      <td>7128.4</td>\n      <td>2267</td>\n      <td>2267</td>\n      <td>33.4</td>\n      <td>Run</td>\n      <td>Run</td>\n      <td>...</td>\n      <td>True</td>\n      <td>9311691223</td>\n      <td>9311691223</td>\n      <td>garmin_ping_263258098893</td>\n      <td>False</td>\n      <td>0</td>\n      <td>0</td>\n      <td>False</td>\n      <td>40.9</td>\n      <td>15.1</td>\n    </tr>\n    <tr>\n      <th>3</th>\n      <td>65d8c4022ab8ad6dcdfe9ce1</td>\n      <td>2</td>\n      <td>{'id': 42223740, 'resource_state': 1}</td>\n      <td>Course à pied le midi</td>\n      <td>8006.0</td>\n      <td>2593</td>\n      <td>2593</td>\n      <td>0.0</td>\n      <td>Run</td>\n      <td>Run</td>\n      <td>...</td>\n      <td>True</td>\n      <td>9363193288</td>\n      <td>9363193288</td>\n      <td>garmin_ping_264620209152</td>\n      <td>False</td>\n      <td>0</td>\n      <td>0</td>\n      <td>False</td>\n      <td>NaN</td>\n      <td>NaN</td>\n    </tr>\n    <tr>\n      <th>4</th>\n      <td>65d8c4022ab8ad6dcdfe9ce3</td>\n      <td>2</td>\n      <td>{'id': 42223740, 'resource_state': 1}</td>\n      <td>Course à pied le midi</td>\n      <td>3272.4</td>\n      <td>1375</td>\n      <td>1375</td>\n      <td>18.7</td>\n      <td>Run</td>\n      <td>Run</td>\n      <td>...</td>\n      <td>True</td>\n      <td>9368768284</td>\n      <td>9368768284</td>\n      <td>garmin_ping_264766053118</td>\n      <td>False</td>\n      <td>0</td>\n      <td>0</td>\n      <td>False</td>\n      <td>39.6</td>\n      <td>18.6</td>\n    </tr>\n    <tr>\n      <th>...</th>\n      <td>...</td>\n      <td>...</td>\n      <td>...</td>\n      <td>...</td>\n      <td>...</td>\n      <td>...</td>\n      <td>...</td>\n      <td>...</td>\n      <td>...</td>\n      <td>...</td>\n      <td>...</td>\n      <td>...</td>\n      <td>...</td>\n      <td>...</td>\n      <td>...</td>\n      <td>...</td>\n      <td>...</td>\n      <td>...</td>\n      <td>...</td>\n      <td>...</td>\n      <td>...</td>\n    </tr>\n    <tr>\n      <th>79</th>\n      <td>65d8c4032ab8ad6dcdfe9d79</td>\n      <td>2</td>\n      <td>{'id': 42223740, 'resource_state': 1}</td>\n      <td>Course à pied le midi</td>\n      <td>11339.9</td>\n      <td>3271</td>\n      <td>3279</td>\n      <td>19.9</td>\n      <td>Run</td>\n      <td>Run</td>\n      <td>...</td>\n      <td>True</td>\n      <td>10582171858</td>\n      <td>10582171858</td>\n      <td>garmin_ping_295188495483</td>\n      <td>False</td>\n      <td>11</td>\n      <td>0</td>\n      <td>False</td>\n      <td>22.8</td>\n      <td>-0.8</td>\n    </tr>\n    <tr>\n      <th>80</th>\n      <td>65d8c4032ab8ad6dcdfe9d7b</td>\n      <td>2</td>\n      <td>{'id': 42223740, 'resource_state': 1}</td>\n      <td>Sortie vélo le matin</td>\n      <td>12540.6</td>\n      <td>2508</td>\n      <td>34912</td>\n      <td>60.9</td>\n      <td>Ride</td>\n      <td>Ride</td>\n      <td>...</td>\n      <td>True</td>\n      <td>10597039017</td>\n      <td>10597039017</td>\n      <td>garmin_ping_295555072712</td>\n      <td>False</td>\n      <td>0</td>\n      <td>0</td>\n      <td>False</td>\n      <td>39.9</td>\n      <td>8.1</td>\n    </tr>\n    <tr>\n      <th>81</th>\n      <td>65d8c4032ab8ad6dcdfe9d7d</td>\n      <td>2</td>\n      <td>{'id': 42223740, 'resource_state': 1}</td>\n      <td>Course à pied en soirée</td>\n      <td>17011.3</td>\n      <td>4807</td>\n      <td>4807</td>\n      <td>84.7</td>\n      <td>Run</td>\n      <td>Run</td>\n      <td>...</td>\n      <td>True</td>\n      <td>10610620288</td>\n      <td>10610620288</td>\n      <td>garmin_ping_295894224657</td>\n      <td>False</td>\n      <td>20</td>\n      <td>0</td>\n      <td>False</td>\n      <td>41.5</td>\n      <td>4.8</td>\n    </tr>\n    <tr>\n      <th>82</th>\n      <td>65d8c4032ab8ad6dcdfe9d7f</td>\n      <td>2</td>\n      <td>{'id': 42223740, 'resource_state': 1}</td>\n      <td>Course à pied le midi</td>\n      <td>12111.1</td>\n      <td>3698</td>\n      <td>3702</td>\n      <td>50.4</td>\n      <td>Run</td>\n      <td>Run</td>\n      <td>...</td>\n      <td>True</td>\n      <td>10628312740</td>\n      <td>10628312740</td>\n      <td>garmin_ping_296335286345</td>\n      <td>False</td>\n      <td>0</td>\n      <td>0</td>\n      <td>False</td>\n      <td>40.9</td>\n      <td>5.0</td>\n    </tr>\n    <tr>\n      <th>83</th>\n      <td>65d8c4032ab8ad6dcdfe9d81</td>\n      <td>2</td>\n      <td>{'id': 42223740, 'resource_state': 1}</td>\n      <td>Sortie vélo le matin</td>\n      <td>7649.2</td>\n      <td>1441</td>\n      <td>1618</td>\n      <td>27.3</td>\n      <td>Ride</td>\n      <td>Ride</td>\n      <td>...</td>\n      <td>True</td>\n      <td>10637182403</td>\n      <td>10637182403</td>\n      <td>garmin_ping_296548969490</td>\n      <td>False</td>\n      <td>0</td>\n      <td>0</td>\n      <td>False</td>\n      <td>40.1</td>\n      <td>8.1</td>\n    </tr>\n  </tbody>\n</table>\n<p>84 rows × 51 columns</p>\n</div>"
     },
     "execution_count": 7,
     "metadata": {},
     "output_type": "execute_result"
    }
   ],
   "source": [
    "from analysis.src.repository import loader\n",
    "\n",
    "activities = loader.load_activities('mongo', year)\n",
    "activities\n"
   ],
   "metadata": {
    "collapsed": false,
    "ExecuteTime": {
     "end_time": "2024-02-28T15:59:05.685782Z",
     "start_time": "2024-02-28T15:59:05.626985Z"
    }
   },
   "id": "1221f48b2c83effa",
   "execution_count": 7
  },
  {
   "cell_type": "code",
   "execution_count": 8,
   "outputs": [
    {
     "name": "stdout",
     "output_type": "stream",
     "text": [
      "Total activities :  84\n",
      "Activities total time :  76:07:09\n",
      "Activities total distance :  868.48km\n"
     ]
    }
   ],
   "source": [
    "from analysis.src.view import data_format\n",
    "from analysis.src.domain import overview\n",
    "\n",
    "overview = overview.get_overview(activities)\n",
    "\n",
    "activities_count = int(overview['count'].sum())\n",
    "print(\"Total activities : \", activities_count)\n",
    "\n",
    "total_seconds = int(overview['sum_moving_time'].sum())\n",
    "print(\"Activities total time : \", data_format.seconds_as_hhmmss(total_seconds))\n",
    "\n",
    "total_distance = int(overview['sum_distance'].sum())\n",
    "print(\"Activities total distance : \", data_format.m_as_km(total_distance))"
   ],
   "metadata": {
    "collapsed": false,
    "ExecuteTime": {
     "end_time": "2024-02-28T15:59:05.711761Z",
     "start_time": "2024-02-28T15:59:05.689569Z"
    }
   },
   "id": "368a32c94a058e25"
  },
  {
   "cell_type": "code",
   "execution_count": 9,
   "outputs": [
    {
     "data": {
      "text/plain": "        sum_distance_overview mean_distance_overview sum_moving_time_overview  \\\ntype                                                                            \nHike                  38.73km                 6.46km                 09:27:04   \nRide                 232.06km                12.89km                 11:58:36   \nRun                  560.84km                10.39km                 50:54:07   \nWalk                   4.98km                 2.49km                 00:49:03   \nWorkout               31.87km                 7.97km                 02:58:19   \n\n        mean_moving_time_overview  \ntype                               \nHike                     01:34:30  \nRide                     00:39:55  \nRun                      00:56:33  \nWalk                     00:24:31  \nWorkout                  00:44:34  ",
      "text/html": "<div>\n<style scoped>\n    .dataframe tbody tr th:only-of-type {\n        vertical-align: middle;\n    }\n\n    .dataframe tbody tr th {\n        vertical-align: top;\n    }\n\n    .dataframe thead th {\n        text-align: right;\n    }\n</style>\n<table border=\"1\" class=\"dataframe\">\n  <thead>\n    <tr style=\"text-align: right;\">\n      <th></th>\n      <th>sum_distance_overview</th>\n      <th>mean_distance_overview</th>\n      <th>sum_moving_time_overview</th>\n      <th>mean_moving_time_overview</th>\n    </tr>\n    <tr>\n      <th>type</th>\n      <th></th>\n      <th></th>\n      <th></th>\n      <th></th>\n    </tr>\n  </thead>\n  <tbody>\n    <tr>\n      <th>Hike</th>\n      <td>38.73km</td>\n      <td>6.46km</td>\n      <td>09:27:04</td>\n      <td>01:34:30</td>\n    </tr>\n    <tr>\n      <th>Ride</th>\n      <td>232.06km</td>\n      <td>12.89km</td>\n      <td>11:58:36</td>\n      <td>00:39:55</td>\n    </tr>\n    <tr>\n      <th>Run</th>\n      <td>560.84km</td>\n      <td>10.39km</td>\n      <td>50:54:07</td>\n      <td>00:56:33</td>\n    </tr>\n    <tr>\n      <th>Walk</th>\n      <td>4.98km</td>\n      <td>2.49km</td>\n      <td>00:49:03</td>\n      <td>00:24:31</td>\n    </tr>\n    <tr>\n      <th>Workout</th>\n      <td>31.87km</td>\n      <td>7.97km</td>\n      <td>02:58:19</td>\n      <td>00:44:34</td>\n    </tr>\n  </tbody>\n</table>\n</div>"
     },
     "metadata": {},
     "output_type": "display_data"
    }
   ],
   "source": [
    "overview['sum_distance_overview'] = overview['sum_distance'].apply(data_format.m_as_km)\n",
    "overview['mean_distance_overview'] = overview['mean_distance'].apply(data_format.m_as_km)\n",
    "overview['sum_moving_time_overview'] = overview['sum_moving_time'].apply(data_format.seconds_as_hhmmss)\n",
    "overview['mean_moving_time_overview'] = overview['mean_moving_time'].apply(data_format.seconds_as_hhmmss)\n",
    "\n",
    "display(overview[['sum_distance_overview', 'mean_distance_overview', 'sum_moving_time_overview',\n",
    "                       'mean_moving_time_overview']])\n"
   ],
   "metadata": {
    "collapsed": false,
    "ExecuteTime": {
     "end_time": "2024-02-28T15:59:05.719881Z",
     "start_time": "2024-02-28T15:59:05.713598Z"
    }
   },
   "id": "a0d036a3c571d0"
  },
  {
   "cell_type": "code",
   "outputs": [],
   "source": [],
   "metadata": {
    "collapsed": false,
    "ExecuteTime": {
     "end_time": "2024-02-28T15:59:05.722345Z",
     "start_time": "2024-02-28T15:59:05.720778Z"
    }
   },
   "id": "f57a7acb78894d63",
   "execution_count": 9
  }
 ],
 "metadata": {
  "kernelspec": {
   "display_name": "Python 3",
   "language": "python",
   "name": "python3"
  },
  "language_info": {
   "codemirror_mode": {
    "name": "ipython",
    "version": 2
   },
   "file_extension": ".py",
   "mimetype": "text/x-python",
   "name": "python",
   "nbconvert_exporter": "python",
   "pygments_lexer": "ipython2",
   "version": "2.7.6"
  }
 },
 "nbformat": 4,
 "nbformat_minor": 5
}
