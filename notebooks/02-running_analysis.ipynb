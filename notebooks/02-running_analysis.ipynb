{
 "cells": [
  {
   "cell_type": "markdown",
   "metadata": {},
   "source": [
    "# 2022 Running Analysis\n"
   ]
  },
  {
   "cell_type": "code",
   "execution_count": 8,
   "metadata": {
    "pycharm": {
     "is_executing": true
    }
   },
   "outputs": [],
   "source": [
    "from stravadataanalysis.src.repository import data_loader\n",
    "\n",
    "activities_2022 = data_loader.load_activities(\"../data/2022/activities\")\n",
    "runs = activities_2022[activities_2022['type'] == 'Run']\n"
   ]
  },
  {
   "cell_type": "markdown",
   "metadata": {},
   "source": [
    "## 2022 Highlight"
   ]
  },
  {
   "cell_type": "code",
   "execution_count": 9,
   "metadata": {},
   "outputs": [
    {
     "data": {
      "text/html": [
       "<div>\n",
       "<style scoped>\n",
       "    .dataframe tbody tr th:only-of-type {\n",
       "        vertical-align: middle;\n",
       "    }\n",
       "\n",
       "    .dataframe tbody tr th {\n",
       "        vertical-align: top;\n",
       "    }\n",
       "\n",
       "    .dataframe thead th {\n",
       "        text-align: right;\n",
       "    }\n",
       "</style>\n",
       "<table border=\"1\" class=\"dataframe\">\n",
       "  <thead>\n",
       "    <tr style=\"text-align: right;\">\n",
       "      <th></th>\n",
       "      <th>name</th>\n",
       "      <th>distance_overview</th>\n",
       "      <th>elapsed_time_overview</th>\n",
       "      <th>average_speed_overview</th>\n",
       "      <th>total_elevation_gain_overview</th>\n",
       "      <th>start_date</th>\n",
       "    </tr>\n",
       "  </thead>\n",
       "  <tbody>\n",
       "    <tr>\n",
       "      <th>15</th>\n",
       "      <td>Course à pied l'après-midi</td>\n",
       "      <td>21.34km</td>\n",
       "      <td>01:50:38</td>\n",
       "      <td>5:10min/km</td>\n",
       "      <td>121m</td>\n",
       "      <td>2022-03-13T15:21:44Z</td>\n",
       "    </tr>\n",
       "    <tr>\n",
       "      <th>54</th>\n",
       "      <td>Foulées du Numérique 2022</td>\n",
       "      <td>19.25km</td>\n",
       "      <td>01:33:47</td>\n",
       "      <td>4:52min/km</td>\n",
       "      <td>13m</td>\n",
       "      <td>2022-09-18T07:48:00Z</td>\n",
       "    </tr>\n",
       "    <tr>\n",
       "      <th>22</th>\n",
       "      <td>Henvic / Sentier Côtier à Carantec</td>\n",
       "      <td>18.89km</td>\n",
       "      <td>01:45:04</td>\n",
       "      <td>5:32min/km</td>\n",
       "      <td>263m</td>\n",
       "      <td>2022-04-17T15:00:17Z</td>\n",
       "    </tr>\n",
       "    <tr>\n",
       "      <th>62</th>\n",
       "      <td>Course à pied dans l'après-midi</td>\n",
       "      <td>16.66km</td>\n",
       "      <td>01:25:26</td>\n",
       "      <td>5:08min/km</td>\n",
       "      <td>50m</td>\n",
       "      <td>2022-11-05T15:08:22Z</td>\n",
       "    </tr>\n",
       "    <tr>\n",
       "      <th>34</th>\n",
       "      <td>Course à pied le matin</td>\n",
       "      <td>15.6km</td>\n",
       "      <td>01:24:23</td>\n",
       "      <td>5:23min/km</td>\n",
       "      <td>21m</td>\n",
       "      <td>2022-06-05T08:04:29Z</td>\n",
       "    </tr>\n",
       "    <tr>\n",
       "      <th>...</th>\n",
       "      <td>...</td>\n",
       "      <td>...</td>\n",
       "      <td>...</td>\n",
       "      <td>...</td>\n",
       "      <td>...</td>\n",
       "      <td>...</td>\n",
       "    </tr>\n",
       "    <tr>\n",
       "      <th>38</th>\n",
       "      <td>Course à pied le midi</td>\n",
       "      <td>10.0km</td>\n",
       "      <td>00:52:20</td>\n",
       "      <td>5:14min/km</td>\n",
       "      <td>53m</td>\n",
       "      <td>2022-07-04T10:00:21Z</td>\n",
       "    </tr>\n",
       "    <tr>\n",
       "      <th>45</th>\n",
       "      <td>Course à pied en soirée</td>\n",
       "      <td>10.0km</td>\n",
       "      <td>00:53:50</td>\n",
       "      <td>5:22min/km</td>\n",
       "      <td>133m</td>\n",
       "      <td>2022-07-27T16:33:24Z</td>\n",
       "    </tr>\n",
       "    <tr>\n",
       "      <th>71</th>\n",
       "      <td>Course à pied le matin</td>\n",
       "      <td>8.72km</td>\n",
       "      <td>00:42:59</td>\n",
       "      <td>4:56min/km</td>\n",
       "      <td>34m</td>\n",
       "      <td>2022-12-04T08:00:18Z</td>\n",
       "    </tr>\n",
       "    <tr>\n",
       "      <th>52</th>\n",
       "      <td>Course à pied dans l'après-midi</td>\n",
       "      <td>8.62km</td>\n",
       "      <td>00:44:59</td>\n",
       "      <td>5:13min/km</td>\n",
       "      <td>0m</td>\n",
       "      <td>2022-09-04T15:39:12Z</td>\n",
       "    </tr>\n",
       "    <tr>\n",
       "      <th>40</th>\n",
       "      <td>Course à pied le matin</td>\n",
       "      <td>7.75km</td>\n",
       "      <td>00:44:27</td>\n",
       "      <td>5:32min/km</td>\n",
       "      <td>46m</td>\n",
       "      <td>2022-07-12T04:51:23Z</td>\n",
       "    </tr>\n",
       "  </tbody>\n",
       "</table>\n",
       "<p>64 rows × 6 columns</p>\n",
       "</div>"
      ],
      "text/plain": [
       "                                  name distance_overview  \\\n",
       "15          Course à pied l'après-midi           21.34km   \n",
       "54           Foulées du Numérique 2022           19.25km   \n",
       "22  Henvic / Sentier Côtier à Carantec           18.89km   \n",
       "62     Course à pied dans l'après-midi           16.66km   \n",
       "34              Course à pied le matin            15.6km   \n",
       "..                                 ...               ...   \n",
       "38               Course à pied le midi            10.0km   \n",
       "45             Course à pied en soirée            10.0km   \n",
       "71              Course à pied le matin            8.72km   \n",
       "52     Course à pied dans l'après-midi            8.62km   \n",
       "40              Course à pied le matin            7.75km   \n",
       "\n",
       "   elapsed_time_overview average_speed_overview total_elevation_gain_overview  \\\n",
       "15              01:50:38             5:10min/km                          121m   \n",
       "54              01:33:47             4:52min/km                           13m   \n",
       "22              01:45:04             5:32min/km                          263m   \n",
       "62              01:25:26             5:08min/km                           50m   \n",
       "34              01:24:23             5:23min/km                           21m   \n",
       "..                   ...                    ...                           ...   \n",
       "38              00:52:20             5:14min/km                           53m   \n",
       "45              00:53:50             5:22min/km                          133m   \n",
       "71              00:42:59             4:56min/km                           34m   \n",
       "52              00:44:59             5:13min/km                            0m   \n",
       "40              00:44:27             5:32min/km                           46m   \n",
       "\n",
       "              start_date  \n",
       "15  2022-03-13T15:21:44Z  \n",
       "54  2022-09-18T07:48:00Z  \n",
       "22  2022-04-17T15:00:17Z  \n",
       "62  2022-11-05T15:08:22Z  \n",
       "34  2022-06-05T08:04:29Z  \n",
       "..                   ...  \n",
       "38  2022-07-04T10:00:21Z  \n",
       "45  2022-07-27T16:33:24Z  \n",
       "71  2022-12-04T08:00:18Z  \n",
       "52  2022-09-04T15:39:12Z  \n",
       "40  2022-07-12T04:51:23Z  \n",
       "\n",
       "[64 rows x 6 columns]"
      ]
     },
     "metadata": {},
     "output_type": "display_data"
    }
   ],
   "source": [
    "from stravadataanalysis.src.view import data_format\n",
    "\n",
    "runs_2022 =runs[['id', 'start_date', 'name', 'distance', 'elapsed_time', 'average_speed', 'total_elevation_gain']]\\\n",
    "  .sort_values('distance', ascending=False)\n",
    "runs_2022['distance_overview'] = runs_2022['distance'].apply(data_format.m_as_km)\n",
    "runs_2022['elapsed_time_overview'] = runs_2022['elapsed_time'].apply(data_format.seconds_as_hhmmss)\n",
    "runs_2022['average_speed_overview'] = runs_2022['average_speed'].apply(data_format.mps_as_minpkm)\n",
    "runs_2022['total_elevation_gain_overview'] = runs_2022['total_elevation_gain'].apply(data_format.m)\n",
    "display(runs_2022[['name', 'distance_overview', 'elapsed_time_overview', 'average_speed_overview', 'total_elevation_gain_overview', 'start_date']])\n"
   ]
  },
  {
   "cell_type": "code",
   "execution_count": 10,
   "metadata": {},
   "outputs": [
    {
     "data": {
      "text/html": [
       "<div>\n",
       "<style scoped>\n",
       "    .dataframe tbody tr th:only-of-type {\n",
       "        vertical-align: middle;\n",
       "    }\n",
       "\n",
       "    .dataframe tbody tr th {\n",
       "        vertical-align: top;\n",
       "    }\n",
       "\n",
       "    .dataframe thead th {\n",
       "        text-align: right;\n",
       "    }\n",
       "</style>\n",
       "<table border=\"1\" class=\"dataframe\">\n",
       "  <thead>\n",
       "    <tr style=\"text-align: right;\">\n",
       "      <th></th>\n",
       "      <th>highlight</th>\n",
       "      <th>value</th>\n",
       "      <th>name</th>\n",
       "      <th>start_date_local</th>\n",
       "      <th>id</th>\n",
       "    </tr>\n",
       "  </thead>\n",
       "  <tbody>\n",
       "    <tr>\n",
       "      <th>15</th>\n",
       "      <td>max_distance</td>\n",
       "      <td>21.34km</td>\n",
       "      <td>Course à pied l'après-midi</td>\n",
       "      <td>2022-03-13T16:21:44Z</td>\n",
       "      <td>6819196468</td>\n",
       "    </tr>\n",
       "    <tr>\n",
       "      <th>15</th>\n",
       "      <td>max_duration</td>\n",
       "      <td>01:50:38</td>\n",
       "      <td>Course à pied l'après-midi</td>\n",
       "      <td>2022-03-13T16:21:44Z</td>\n",
       "      <td>6819196468</td>\n",
       "    </tr>\n",
       "    <tr>\n",
       "      <th>22</th>\n",
       "      <td>max_elevation_gain</td>\n",
       "      <td>263m</td>\n",
       "      <td>Henvic / Sentier Côtier à Carantec</td>\n",
       "      <td>2022-04-17T17:00:17Z</td>\n",
       "      <td>6997761739</td>\n",
       "    </tr>\n",
       "    <tr>\n",
       "      <th>40</th>\n",
       "      <td>earlier_run</td>\n",
       "      <td>06:51:23</td>\n",
       "      <td>Course à pied le matin</td>\n",
       "      <td>2022-07-12T06:51:23Z</td>\n",
       "      <td>7454700738</td>\n",
       "    </tr>\n",
       "    <tr>\n",
       "      <th>68</th>\n",
       "      <td>max_average_speed</td>\n",
       "      <td>4:41min/km</td>\n",
       "      <td>Course à pied dans l'après-midi</td>\n",
       "      <td>2022-11-27T16:30:12Z</td>\n",
       "      <td>8177401446</td>\n",
       "    </tr>\n",
       "    <tr>\n",
       "      <th>63</th>\n",
       "      <td>max_top_heartrate</td>\n",
       "      <td>204bpm</td>\n",
       "      <td>Côtes à Chantenay</td>\n",
       "      <td>2022-11-10T12:10:37Z</td>\n",
       "      <td>8096506459</td>\n",
       "    </tr>\n",
       "  </tbody>\n",
       "</table>\n",
       "</div>"
      ],
      "text/plain": [
       "             highlight       value                                name  \\\n",
       "15        max_distance     21.34km          Course à pied l'après-midi   \n",
       "15        max_duration    01:50:38          Course à pied l'après-midi   \n",
       "22  max_elevation_gain        263m  Henvic / Sentier Côtier à Carantec   \n",
       "40         earlier_run    06:51:23              Course à pied le matin   \n",
       "68   max_average_speed  4:41min/km     Course à pied dans l'après-midi   \n",
       "63   max_top_heartrate      204bpm                   Côtes à Chantenay   \n",
       "\n",
       "        start_date_local          id  \n",
       "15  2022-03-13T16:21:44Z  6819196468  \n",
       "15  2022-03-13T16:21:44Z  6819196468  \n",
       "22  2022-04-17T17:00:17Z  6997761739  \n",
       "40  2022-07-12T06:51:23Z  7454700738  \n",
       "68  2022-11-27T16:30:12Z  8177401446  \n",
       "63  2022-11-10T12:10:37Z  8096506459  "
      ]
     },
     "execution_count": 10,
     "metadata": {},
     "output_type": "execute_result"
    }
   ],
   "source": [
    "from stravadataanalysis.src.view import data_format\n",
    "from stravadataanalysis.src.domain import highlights\n",
    "import pandas as pd\n",
    "\n",
    "highlights_requests = [\n",
    "    highlights.Highlight('max_distance', 'distance', display_function=data_format.m_as_km),\n",
    "    highlights.Highlight('max_duration', 'elapsed_time', display_function=lambda x: data_format.seconds_as_hhmmss(int(x))),\n",
    "    highlights.Highlight('max_elevation_gain', 'total_elevation_gain', display_function=data_format.m),\n",
    "    highlights.Highlight('earlier_run', 'start_time', ascending_sort_order=True),\n",
    "    highlights.Highlight('max_average_speed', 'average_speed', data_format.mps_as_minpkm),\n",
    "    highlights.Highlight('max_top_heartrate', 'max_heartrate', data_format.bpm),\n",
    "]\n",
    "\n",
    "columns = [\"highlight\", \"value\", \"name\", \"start_date_local\", \"id\"]\n",
    "\n",
    "highlights_2022 = []\n",
    "for highlight_request in highlights_requests:\n",
    "    highlight = highlight_request.transform(runs)\n",
    "    highlights_2022.append(highlight)\n",
    "\n",
    "pd.DataFrame(highlights_2022, columns=columns)"
   ]
  },
  {
   "cell_type": "markdown",
   "metadata": {},
   "source": [
    "# Distance run"
   ]
  },
  {
   "cell_type": "code",
   "execution_count": 11,
   "metadata": {},
   "outputs": [
    {
     "name": "stdout",
     "output_type": "stream",
     "text": [
      "0      7000\n",
      "1      8000\n",
      "2     10000\n",
      "3     11000\n",
      "4     12000\n",
      "5     13000\n",
      "6     14000\n",
      "7     15000\n",
      "8     16000\n",
      "9     18000\n",
      "10    19000\n",
      "11    21000\n",
      "Name: distance, dtype: int64\n",
      "<class 'pandas.core.series.Series'>\n",
      "int64\n"
     ]
    },
    {
     "data": {
      "image/png": "[encoded data removed]",
      "text/plain": [
       "<Figure size 432x288 with 1 Axes>"
      ]
     },
     "metadata": {
      "needs_background": "light"
     },
     "output_type": "display_data"
    },
    {
     "data": {
      "image/png": "[encoded data removed]",
      "text/plain": [
       "<Figure size 432x288 with 1 Axes>"
      ]
     },
     "metadata": {
      "needs_background": "light"
     },
     "output_type": "display_data"
    }
   ],
   "source": [
    "from stravadataanalysis.src.domain.distances import get_distance_distribution\n",
    "from stravadataanalysis.src.view.plot import plot_distance_distribution\n",
    "\n",
    "distance_distribution = get_distance_distribution(runs, 1000)\n",
    "\n",
    "plot_distance_distribution(distance_distribution, True)\n",
    "plot_distance_distribution(distance_distribution, False)"
   ]
  },
  {
   "cell_type": "markdown",
   "metadata": {},
   "source": [
    "## Segments\n",
    "Top 10 segments of the year :"
   ]
  },
  {
   "cell_type": "code",
   "execution_count": 5,
   "metadata": {},
   "outputs": [
    {
     "data": {
      "text/html": [
       "<div>\n",
       "<style scoped>\n",
       "    .dataframe tbody tr th:only-of-type {\n",
       "        vertical-align: middle;\n",
       "    }\n",
       "\n",
       "    .dataframe tbody tr th {\n",
       "        vertical-align: top;\n",
       "    }\n",
       "\n",
       "    .dataframe thead th {\n",
       "        text-align: right;\n",
       "    }\n",
       "</style>\n",
       "<table border=\"1\" class=\"dataframe\">\n",
       "  <thead>\n",
       "    <tr style=\"text-align: right;\">\n",
       "      <th></th>\n",
       "      <th>id</th>\n",
       "      <th>count</th>\n",
       "      <th>name</th>\n",
       "    </tr>\n",
       "  </thead>\n",
       "  <tbody>\n",
       "    <tr>\n",
       "      <th>98</th>\n",
       "      <td>20310261</td>\n",
       "      <td>30</td>\n",
       "      <td>passage à côté du stade jusqu'au terrain de te...</td>\n",
       "    </tr>\n",
       "    <tr>\n",
       "      <th>45</th>\n",
       "      <td>13276220</td>\n",
       "      <td>17</td>\n",
       "      <td>Retour depuis pont</td>\n",
       "    </tr>\n",
       "    <tr>\n",
       "      <th>95</th>\n",
       "      <td>20263817</td>\n",
       "      <td>15</td>\n",
       "      <td>vers aire de jeu du parc de la Chézine</td>\n",
       "    </tr>\n",
       "    <tr>\n",
       "      <th>6</th>\n",
       "      <td>5403095</td>\n",
       "      <td>15</td>\n",
       "      <td>1km Chezine</td>\n",
       "    </tr>\n",
       "    <tr>\n",
       "      <th>93</th>\n",
       "      <td>20263702</td>\n",
       "      <td>14</td>\n",
       "      <td>Chézine partie sud du circuit principal</td>\n",
       "    </tr>\n",
       "    <tr>\n",
       "      <th>88</th>\n",
       "      <td>19642112</td>\n",
       "      <td>13</td>\n",
       "      <td>chez moi</td>\n",
       "    </tr>\n",
       "    <tr>\n",
       "      <th>109</th>\n",
       "      <td>22650322</td>\n",
       "      <td>13</td>\n",
       "      <td>Bassin de la Chezine --&gt; 2ème pont</td>\n",
       "    </tr>\n",
       "    <tr>\n",
       "      <th>16</th>\n",
       "      <td>6899362</td>\n",
       "      <td>13</td>\n",
       "      <td>Montée de l'Avenue des Acacias</td>\n",
       "    </tr>\n",
       "    <tr>\n",
       "      <th>97</th>\n",
       "      <td>20310176</td>\n",
       "      <td>12</td>\n",
       "      <td>La Gourmette vers bout du lac</td>\n",
       "    </tr>\n",
       "    <tr>\n",
       "      <th>8</th>\n",
       "      <td>5472005</td>\n",
       "      <td>12</td>\n",
       "      <td>Dervallieres-Desgrées du lou</td>\n",
       "    </tr>\n",
       "  </tbody>\n",
       "</table>\n",
       "</div>"
      ],
      "text/plain": [
       "           id  count                                               name\n",
       "98   20310261     30  passage à côté du stade jusqu'au terrain de te...\n",
       "45   13276220     17                                 Retour depuis pont\n",
       "95   20263817     15             vers aire de jeu du parc de la Chézine\n",
       "6     5403095     15                                        1km Chezine\n",
       "93   20263702     14            Chézine partie sud du circuit principal\n",
       "88   19642112     13                                           chez moi\n",
       "109  22650322     13                 Bassin de la Chezine --> 2ème pont\n",
       "16    6899362     13                     Montée de l'Avenue des Acacias\n",
       "97   20310176     12                      La Gourmette vers bout du lac\n",
       "8     5472005     12                       Dervallieres-Desgrées du lou"
      ]
     },
     "metadata": {},
     "output_type": "display_data"
    },
    {
     "data": {
      "image/png": "[encoded data removed]",
      "text/plain": [
       "<Figure size 432x288 with 1 Axes>"
      ]
     },
     "metadata": {
      "needs_background": "light"
     },
     "output_type": "display_data"
    }
   ],
   "source": [
    "from stravadataanalysis.src.domain import segments\n",
    "from stravadataanalysis.src.view import plot\n",
    "\n",
    "top_10_segments = segments.get_top_10_segments(runs)\n",
    "\n",
    "display(top_10_segments)\n",
    "\n",
    "plot.plot_top_segments_bar(top_10_segments)\n"
   ]
  },
  {
   "cell_type": "markdown",
   "metadata": {},
   "source": [
    "## Split metrics\n",
    "\n",
    "Evolution of some metrics during my runs :\n",
    "* speed\n",
    "* heart rate\n",
    "\n",
    "> NOTE: Training runs (Strava's workout_type 3) are excluded from the analysis because split runs create split metrics with various interval and the goal is to compare each km."
   ]
  },
  {
   "cell_type": "code",
   "execution_count": 6,
   "metadata": {},
   "outputs": [
    {
     "data": {
      "image/png": "[encoded data removed]",
      "text/plain": [
       "<Figure size 432x288 with 1 Axes>"
      ]
     },
     "metadata": {
      "needs_background": "light"
     },
     "output_type": "display_data"
    },
    {
     "data": {
      "image/png": "[encoded data removed]",
      "text/plain": [
       "<Figure size 432x288 with 1 Axes>"
      ]
     },
     "metadata": {
      "needs_background": "light"
     },
     "output_type": "display_data"
    }
   ],
   "source": [
    "from stravadataanalysis.src.domain import split_metrics\n",
    "from stravadataanalysis.src.view import plot\n",
    "\n",
    "runs_activities = runs[runs['workout_type'] != 3].reset_index()\n",
    "metrics = split_metrics.extract_split_metrics(runs_activities)\n",
    "\n",
    "plot.plot_split_metric_heartrate(metrics['value'], metrics['means'])\n",
    "plot.plot_split_metric_speed(metrics['value'], metrics['means'])"
   ]
  },
  {
   "cell_type": "markdown",
   "metadata": {},
   "source": []
  }
 ],
 "metadata": {
  "kernelspec": {
   "display_name": "Python 3 (ipykernel)",
   "language": "python",
   "name": "python3"
  },
  "language_info": {
   "codemirror_mode": {
    "name": "ipython",
    "version": 3
   },
   "file_extension": ".py",
   "mimetype": "text/x-python",
   "name": "python",
   "nbconvert_exporter": "python",
   "pygments_lexer": "ipython3",
   "version": "3.9.12"
  }
 },
 "nbformat": 4,
 "nbformat_minor": 1
}
