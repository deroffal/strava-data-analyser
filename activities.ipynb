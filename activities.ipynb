{
 "cells": [
  {
   "cell_type": "markdown",
   "source": [
    "# Activities\n",
    "\n",
    "Overview of my activities"
   ],
   "metadata": {
    "collapsed": false
   }
  },
  {
   "cell_type": "markdown",
   "source": [
    "## Import datas"
   ],
   "metadata": {
    "collapsed": false
   }
  },
  {
   "cell_type": "code",
   "execution_count": 280,
   "id": "d79b525c",
   "metadata": {},
   "outputs": [
    {
     "data": {
      "text/plain": "                   start_date                                 name  distance  \\\n40  2022-03-13 15:21:44+00:00           Course à pied l'après-midi   21340.6   \n63  2021-11-28 15:54:51+00:00                            1er Semi!   21199.3   \n1   2022-09-18 07:48:00+00:00            Foulées du Numérique 2022   19245.5   \n33  2022-04-17 15:00:17+00:00   Henvic / Sentier Côtier à Carantec   18888.6   \n272 2018-08-31 16:11:06+00:00  Course à pied le soir Chézine-Procé   16350.0   \n..                        ...                                  ...       ...   \n73  2021-10-29 16:56:29+00:00                Course à pied le soir    3562.7   \n121 2021-02-26 11:21:28+00:00                Course à pied le midi    3545.0   \n212 2020-03-26 16:22:51+00:00           Course à pied l'après-midi    3387.7   \n101 2021-08-03 16:05:43+00:00                Course à pied le soir    2944.8   \n208 2020-04-08 16:02:20+00:00                Course à pied le soir    2415.9   \n\n     elapsed_time  average_speed  total_elevation_gain  \n40           6638          3.222                 120.6  \n63           6949          3.056                 164.8  \n1            5627          3.420                  12.8  \n33           6304          3.009                 263.1  \n272          5907          2.789                 124.8  \n..            ...            ...                   ...  \n73           1519          2.353                   4.9  \n121          1491          2.382                  21.6  \n212          1220          2.804                   0.0  \n101          1201          2.454                   2.9  \n208           755          3.238                   0.0  \n\n[227 rows x 6 columns]",
      "text/html": "<div>\n<style scoped>\n    .dataframe tbody tr th:only-of-type {\n        vertical-align: middle;\n    }\n\n    .dataframe tbody tr th {\n        vertical-align: top;\n    }\n\n    .dataframe thead th {\n        text-align: right;\n    }\n</style>\n<table border=\"1\" class=\"dataframe\">\n  <thead>\n    <tr style=\"text-align: right;\">\n      <th></th>\n      <th>start_date</th>\n      <th>name</th>\n      <th>distance</th>\n      <th>elapsed_time</th>\n      <th>average_speed</th>\n      <th>total_elevation_gain</th>\n    </tr>\n  </thead>\n  <tbody>\n    <tr>\n      <th>40</th>\n      <td>2022-03-13 15:21:44+00:00</td>\n      <td>Course à pied l'après-midi</td>\n      <td>21340.6</td>\n      <td>6638</td>\n      <td>3.222</td>\n      <td>120.6</td>\n    </tr>\n    <tr>\n      <th>63</th>\n      <td>2021-11-28 15:54:51+00:00</td>\n      <td>1er Semi!</td>\n      <td>21199.3</td>\n      <td>6949</td>\n      <td>3.056</td>\n      <td>164.8</td>\n    </tr>\n    <tr>\n      <th>1</th>\n      <td>2022-09-18 07:48:00+00:00</td>\n      <td>Foulées du Numérique 2022</td>\n      <td>19245.5</td>\n      <td>5627</td>\n      <td>3.420</td>\n      <td>12.8</td>\n    </tr>\n    <tr>\n      <th>33</th>\n      <td>2022-04-17 15:00:17+00:00</td>\n      <td>Henvic / Sentier Côtier à Carantec</td>\n      <td>18888.6</td>\n      <td>6304</td>\n      <td>3.009</td>\n      <td>263.1</td>\n    </tr>\n    <tr>\n      <th>272</th>\n      <td>2018-08-31 16:11:06+00:00</td>\n      <td>Course à pied le soir Chézine-Procé</td>\n      <td>16350.0</td>\n      <td>5907</td>\n      <td>2.789</td>\n      <td>124.8</td>\n    </tr>\n    <tr>\n      <th>...</th>\n      <td>...</td>\n      <td>...</td>\n      <td>...</td>\n      <td>...</td>\n      <td>...</td>\n      <td>...</td>\n    </tr>\n    <tr>\n      <th>73</th>\n      <td>2021-10-29 16:56:29+00:00</td>\n      <td>Course à pied le soir</td>\n      <td>3562.7</td>\n      <td>1519</td>\n      <td>2.353</td>\n      <td>4.9</td>\n    </tr>\n    <tr>\n      <th>121</th>\n      <td>2021-02-26 11:21:28+00:00</td>\n      <td>Course à pied le midi</td>\n      <td>3545.0</td>\n      <td>1491</td>\n      <td>2.382</td>\n      <td>21.6</td>\n    </tr>\n    <tr>\n      <th>212</th>\n      <td>2020-03-26 16:22:51+00:00</td>\n      <td>Course à pied l'après-midi</td>\n      <td>3387.7</td>\n      <td>1220</td>\n      <td>2.804</td>\n      <td>0.0</td>\n    </tr>\n    <tr>\n      <th>101</th>\n      <td>2021-08-03 16:05:43+00:00</td>\n      <td>Course à pied le soir</td>\n      <td>2944.8</td>\n      <td>1201</td>\n      <td>2.454</td>\n      <td>2.9</td>\n    </tr>\n    <tr>\n      <th>208</th>\n      <td>2020-04-08 16:02:20+00:00</td>\n      <td>Course à pied le soir</td>\n      <td>2415.9</td>\n      <td>755</td>\n      <td>3.238</td>\n      <td>0.0</td>\n    </tr>\n  </tbody>\n</table>\n<p>227 rows × 6 columns</p>\n</div>"
     },
     "metadata": {},
     "output_type": "display_data"
    }
   ],
   "source": [
    "import pandas as pd\n",
    "\n",
    "activities = pd.read_json(\"data/activities.json\", convert_dates=['start_date'])\n",
    "#filter only 'run' activities\n",
    "runs = activities.loc[(activities['type'] == 'Run') & (activities['distance'] > 0)]\n",
    "#select columns\n",
    "runs = runs[['start_date', 'name', 'distance', 'elapsed_time', 'average_speed', 'total_elevation_gain']]\n",
    "#sort by distance\n",
    "runs = runs.sort_values('distance', ascending=False)\n",
    "\n",
    "display(runs)"
   ]
  },
  {
   "cell_type": "markdown",
   "source": [
    "## Year 2022 statistics"
   ],
   "metadata": {
    "collapsed": false
   }
  },
  {
   "cell_type": "code",
   "execution_count": 281,
   "outputs": [],
   "source": [
    "from numpy import round\n",
    "from datetime import timedelta\n",
    "\n",
    "\n",
    "#Extract hours, minutes and seconds from timedelta.\n",
    "def td_to_hhmmss(td: timedelta):\n",
    "    days = td.days\n",
    "    hours, remainder = divmod(td.seconds, 3600)\n",
    "    minutes, seconds = divmod(remainder, 60)\n",
    "    return days * 24 + hours, minutes, seconds"
   ],
   "metadata": {
    "collapsed": false
   }
  },
  {
   "cell_type": "markdown",
   "source": [
    "### Running"
   ],
   "metadata": {
    "collapsed": false
   }
  },
  {
   "cell_type": "code",
   "execution_count": 282,
   "outputs": [
    {
     "name": "stdout",
     "output_type": "stream",
     "text": [
      "number of runs : 51\n",
      "total distance : 615.75 km\n",
      "average distance : 12.07 km\n",
      "total time :  54 h 15 min 12 sec\n",
      "average time : 1:03:49\n"
     ]
    }
   ],
   "source": [
    "years_runs = runs.loc[runs['start_date'] >= '2022-01-01']\n",
    "print(\"number of runs :\", years_runs.shape[0])\n",
    "\n",
    "total_distance = years_runs['distance'].sum()\n",
    "print(\"total distance :\", round(total_distance / 1000, 2), \"km\")\n",
    "print(\"average distance :\", round(years_runs['distance'].mean() / 1000, 2), \"km\")\n",
    "\n",
    "total_elapsed_time = years_runs['elapsed_time'].sum()\n",
    "hhmmss = td_to_hhmmss(timedelta(seconds=total_elapsed_time.item()))\n",
    "print(\"total time : \", hhmmss[0], \"h\", hhmmss[1], \"min\", hhmmss[2], \"sec\")\n",
    "print(\"average time :\", timedelta(seconds=int(years_runs['elapsed_time'].mean())))\n"
   ],
   "metadata": {
    "collapsed": false
   }
  },
  {
   "cell_type": "markdown",
   "source": [
    "### Other activities\n"
   ],
   "metadata": {
    "collapsed": false
   }
  },
  {
   "cell_type": "code",
   "execution_count": 283,
   "outputs": [
    {
     "data": {
      "text/plain": "               distance        elapsed_time              \n                    sum   mean          sum          mean\ntype                                                     \nEBikeRide         22.95  22.95         7888   7888.000000\nHike              30.90   7.72        64046  16011.500000\nRide             627.02  14.25       773473  17578.931818\nWalk             124.59   8.90       174855  12489.642857\nWeightTraining     0.00   0.00          656    656.000000\nWorkout            0.21   0.21          785    785.000000",
      "text/html": "<div>\n<style scoped>\n    .dataframe tbody tr th:only-of-type {\n        vertical-align: middle;\n    }\n\n    .dataframe tbody tr th {\n        vertical-align: top;\n    }\n\n    .dataframe thead tr th {\n        text-align: left;\n    }\n\n    .dataframe thead tr:last-of-type th {\n        text-align: right;\n    }\n</style>\n<table border=\"1\" class=\"dataframe\">\n  <thead>\n    <tr>\n      <th></th>\n      <th colspan=\"2\" halign=\"left\">distance</th>\n      <th colspan=\"2\" halign=\"left\">elapsed_time</th>\n    </tr>\n    <tr>\n      <th></th>\n      <th>sum</th>\n      <th>mean</th>\n      <th>sum</th>\n      <th>mean</th>\n    </tr>\n    <tr>\n      <th>type</th>\n      <th></th>\n      <th></th>\n      <th></th>\n      <th></th>\n    </tr>\n  </thead>\n  <tbody>\n    <tr>\n      <th>EBikeRide</th>\n      <td>22.95</td>\n      <td>22.95</td>\n      <td>7888</td>\n      <td>7888.000000</td>\n    </tr>\n    <tr>\n      <th>Hike</th>\n      <td>30.90</td>\n      <td>7.72</td>\n      <td>64046</td>\n      <td>16011.500000</td>\n    </tr>\n    <tr>\n      <th>Ride</th>\n      <td>627.02</td>\n      <td>14.25</td>\n      <td>773473</td>\n      <td>17578.931818</td>\n    </tr>\n    <tr>\n      <th>Walk</th>\n      <td>124.59</td>\n      <td>8.90</td>\n      <td>174855</td>\n      <td>12489.642857</td>\n    </tr>\n    <tr>\n      <th>WeightTraining</th>\n      <td>0.00</td>\n      <td>0.00</td>\n      <td>656</td>\n      <td>656.000000</td>\n    </tr>\n    <tr>\n      <th>Workout</th>\n      <td>0.21</td>\n      <td>0.21</td>\n      <td>785</td>\n      <td>785.000000</td>\n    </tr>\n  </tbody>\n</table>\n</div>"
     },
     "metadata": {},
     "output_type": "display_data"
    }
   ],
   "source": [
    "other_activities = activities.loc[activities['type'] != 'Run'].groupby('type').agg({'distance': ['sum', 'mean'], 'elapsed_time': ['sum', 'mean']})\n",
    "other_activities['distance'] = round(other_activities['distance'] / 1000, 2)\n",
    "display(other_activities)\n"
   ],
   "metadata": {
    "collapsed": false
   }
  }
 ],
 "metadata": {
  "kernelspec": {
   "display_name": "Python 3 (ipykernel)",
   "language": "python",
   "name": "python3"
  },
  "language_info": {
   "codemirror_mode": {
    "name": "ipython",
    "version": 3
   },
   "file_extension": ".py",
   "mimetype": "text/x-python",
   "name": "python",
   "nbconvert_exporter": "python",
   "pygments_lexer": "ipython3",
   "version": "3.9.12"
  }
 },
 "nbformat": 4,
 "nbformat_minor": 5
}
