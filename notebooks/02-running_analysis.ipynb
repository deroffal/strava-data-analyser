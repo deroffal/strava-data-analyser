{
 "cells": [
  {
   "cell_type": "markdown",
   "source": [
    "# 2022 Running Analysis\n"
   ],
   "metadata": {
    "collapsed": false
   }
  },
  {
   "cell_type": "code",
   "execution_count": 2,
   "outputs": [],
   "source": [
    "import pandas as pd\n",
    "from stravadataanalysis import file\n",
    "\n",
    "json_activities_2022 = file.read_json_files(\"../data/2022/activities\")\n",
    "run_activities_2022 = pd.DataFrame.from_dict(json_activities_2022)\n",
    "run_activities_2022 = run_activities_2022[run_activities_2022['type'] == 'Run']\n"
   ],
   "metadata": {
    "collapsed": false
   }
  },
  {
   "cell_type": "markdown",
   "source": [
    "## Segments\n",
    "Top 10 segments of the year :"
   ],
   "metadata": {
    "collapsed": false
   }
  },
  {
   "cell_type": "code",
   "execution_count": 2,
   "outputs": [
    {
     "data": {
      "text/plain": "           id  count                                               name\n84   20310261     30  passage à côté du stade jusqu'au terrain de te...\n42   13276220     17                                 Retour depuis pont\n5     5403095     15                                        1km Chezine\n81   20263817     15             vers aire de jeu du parc de la Chézine\n79   20263702     14            Chézine partie sud du circuit principal\n15    6899362     13                     Montée de l'Avenue des Acacias\n94   22650322     13                 Bassin de la Chezine --> 2ème pont\n74   19642112     13                                           chez moi\n111  27607808     12                Pont Jules César --> Bd du Massacre\n83   20310176     12                      La Gourmette vers bout du lac",
      "text/html": "<div>\n<style scoped>\n    .dataframe tbody tr th:only-of-type {\n        vertical-align: middle;\n    }\n\n    .dataframe tbody tr th {\n        vertical-align: top;\n    }\n\n    .dataframe thead th {\n        text-align: right;\n    }\n</style>\n<table border=\"1\" class=\"dataframe\">\n  <thead>\n    <tr style=\"text-align: right;\">\n      <th></th>\n      <th>id</th>\n      <th>count</th>\n      <th>name</th>\n    </tr>\n  </thead>\n  <tbody>\n    <tr>\n      <th>84</th>\n      <td>20310261</td>\n      <td>30</td>\n      <td>passage à côté du stade jusqu'au terrain de te...</td>\n    </tr>\n    <tr>\n      <th>42</th>\n      <td>13276220</td>\n      <td>17</td>\n      <td>Retour depuis pont</td>\n    </tr>\n    <tr>\n      <th>5</th>\n      <td>5403095</td>\n      <td>15</td>\n      <td>1km Chezine</td>\n    </tr>\n    <tr>\n      <th>81</th>\n      <td>20263817</td>\n      <td>15</td>\n      <td>vers aire de jeu du parc de la Chézine</td>\n    </tr>\n    <tr>\n      <th>79</th>\n      <td>20263702</td>\n      <td>14</td>\n      <td>Chézine partie sud du circuit principal</td>\n    </tr>\n    <tr>\n      <th>15</th>\n      <td>6899362</td>\n      <td>13</td>\n      <td>Montée de l'Avenue des Acacias</td>\n    </tr>\n    <tr>\n      <th>94</th>\n      <td>22650322</td>\n      <td>13</td>\n      <td>Bassin de la Chezine --&gt; 2ème pont</td>\n    </tr>\n    <tr>\n      <th>74</th>\n      <td>19642112</td>\n      <td>13</td>\n      <td>chez moi</td>\n    </tr>\n    <tr>\n      <th>111</th>\n      <td>27607808</td>\n      <td>12</td>\n      <td>Pont Jules César --&gt; Bd du Massacre</td>\n    </tr>\n    <tr>\n      <th>83</th>\n      <td>20310176</td>\n      <td>12</td>\n      <td>La Gourmette vers bout du lac</td>\n    </tr>\n  </tbody>\n</table>\n</div>"
     },
     "metadata": {},
     "output_type": "display_data"
    }
   ],
   "source": [
    "import itertools\n",
    "\n",
    "from stravadataanalysis import strava\n",
    "\n",
    "segments = run_activities_2022['segment_efforts'].apply(strava.extract_segments)\n",
    "segments_2022 = pd.DataFrame(itertools.chain.from_iterable(segments.values))\n",
    "\n",
    "top_10_segments = segments_2022.groupby(['id'])\\\n",
    "  .agg(count=('id', 'count'), name=('name', 'min'))[['count', 'name']]\\\n",
    "  .reset_index()\\\n",
    "  .sort_values(by=('count'),ascending=False)\\\n",
    "  .head(10)\n",
    "display(top_10_segments)\n",
    "\n"
   ],
   "metadata": {
    "collapsed": false
   }
  },
  {
   "cell_type": "markdown",
   "source": [],
   "metadata": {
    "collapsed": false
   }
  }
 ],
 "metadata": {
  "kernelspec": {
   "display_name": "Python 3",
   "language": "python",
   "name": "python3"
  },
  "language_info": {
   "codemirror_mode": {
    "name": "ipython",
    "version": 2
   },
   "file_extension": ".py",
   "mimetype": "text/x-python",
   "name": "python",
   "nbconvert_exporter": "python",
   "pygments_lexer": "ipython2",
   "version": "2.7.6"
  }
 },
 "nbformat": 4,
 "nbformat_minor": 0
}
