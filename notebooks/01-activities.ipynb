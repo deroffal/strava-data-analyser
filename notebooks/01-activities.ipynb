{
 "cells": [
  {
   "cell_type": "markdown",
   "id": "ffad5156",
   "metadata": {},
   "source": [
    "# 2022 Activities\n",
    "\n",
    "Overview of my activities in 2022"
   ]
  },
  {
   "cell_type": "code",
   "execution_count": 1,
   "id": "d79b525c",
   "metadata": {},
   "outputs": [
    {
     "name": "stdout",
     "output_type": "stream",
     "text": [
      "Total activities :  73\n",
      "Activities total time :  76:45:38\n",
      "Activities total distance :  891.62km\n"
     ]
    }
   ],
   "source": [
    "from stravadataanalysis.src.repository import data_loader\n",
    "from stravadataanalysis.src.view import data_format\n",
    "from stravadataanalysis.src.domain import overview\n",
    "\n",
    "activities_2022 = data_loader.load_athlete_activities('../data/2022/athlete_activities.json', 2022)\n",
    "overview_2022 = overview.get_overview(activities_2022)\n",
    "\n",
    "activities_count = int(overview_2022['count'].sum())\n",
    "print(\"Total activities : \", activities_count)\n",
    "\n",
    "total_seconds = int(overview_2022['sum_moving_time'].sum())\n",
    "print(\"Activities total time : \", data_format.seconds_as_hhmmss(total_seconds))\n",
    "\n",
    "total_distance =  int(overview_2022['sum_distance'].sum())\n",
    "print(\"Activities total distance : \", data_format.m_as_km(total_distance))"
   ]
  },
  {
   "cell_type": "code",
   "execution_count": 2,
   "id": "55883ee9",
   "metadata": {},
   "outputs": [
    {
     "data": {
      "text/html": [
       "<div>\n",
       "<style scoped>\n",
       "    .dataframe tbody tr th:only-of-type {\n",
       "        vertical-align: middle;\n",
       "    }\n",
       "\n",
       "    .dataframe tbody tr th {\n",
       "        vertical-align: top;\n",
       "    }\n",
       "\n",
       "    .dataframe thead th {\n",
       "        text-align: right;\n",
       "    }\n",
       "</style>\n",
       "<table border=\"1\" class=\"dataframe\">\n",
       "  <thead>\n",
       "    <tr style=\"text-align: right;\">\n",
       "      <th></th>\n",
       "      <th>sum_distance_overview</th>\n",
       "      <th>mean_distance_overview</th>\n",
       "      <th>sum_moving_time_overview</th>\n",
       "      <th>mean_moving_time_overview</th>\n",
       "    </tr>\n",
       "    <tr>\n",
       "      <th>type</th>\n",
       "      <th></th>\n",
       "      <th></th>\n",
       "      <th></th>\n",
       "      <th></th>\n",
       "    </tr>\n",
       "  </thead>\n",
       "  <tbody>\n",
       "    <tr>\n",
       "      <th>Ride</th>\n",
       "      <td>108.48km</td>\n",
       "      <td>18.08km</td>\n",
       "      <td>05:11:45</td>\n",
       "      <td>00:51:57</td>\n",
       "    </tr>\n",
       "    <tr>\n",
       "      <th>Run</th>\n",
       "      <td>765.68km</td>\n",
       "      <td>11.96km</td>\n",
       "      <td>66:52:26</td>\n",
       "      <td>01:02:41</td>\n",
       "    </tr>\n",
       "    <tr>\n",
       "      <th>Walk</th>\n",
       "      <td>17.25km</td>\n",
       "      <td>8.62km</td>\n",
       "      <td>04:38:21</td>\n",
       "      <td>02:19:10</td>\n",
       "    </tr>\n",
       "    <tr>\n",
       "      <th>Workout</th>\n",
       "      <td>0.21km</td>\n",
       "      <td>0.21km</td>\n",
       "      <td>00:03:06</td>\n",
       "      <td>00:03:06</td>\n",
       "    </tr>\n",
       "  </tbody>\n",
       "</table>\n",
       "</div>"
      ],
      "text/plain": [
       "        sum_distance_overview mean_distance_overview sum_moving_time_overview  \\\n",
       "type                                                                            \n",
       "Ride                 108.48km                18.08km                 05:11:45   \n",
       "Run                  765.68km                11.96km                 66:52:26   \n",
       "Walk                  17.25km                 8.62km                 04:38:21   \n",
       "Workout                0.21km                 0.21km                 00:03:06   \n",
       "\n",
       "        mean_moving_time_overview  \n",
       "type                               \n",
       "Ride                     00:51:57  \n",
       "Run                      01:02:41  \n",
       "Walk                     02:19:10  \n",
       "Workout                  00:03:06  "
      ]
     },
     "metadata": {},
     "output_type": "display_data"
    }
   ],
   "source": [
    "overview_2022['sum_distance_overview'] = overview_2022['sum_distance'].apply(data_format.m_as_km)\n",
    "overview_2022['mean_distance_overview'] = overview_2022['mean_distance'].apply(data_format.m_as_km)\n",
    "overview_2022['sum_moving_time_overview'] = overview_2022['sum_moving_time'].apply(data_format.seconds_as_hhmmss)\n",
    "overview_2022['mean_moving_time_overview'] = overview_2022['mean_moving_time'].apply(data_format.seconds_as_hhmmss)\n",
    "\n",
    "display(overview_2022[['sum_distance_overview', 'mean_distance_overview', 'sum_moving_time_overview', 'mean_moving_time_overview']])\n"
   ]
  }
 ],
 "metadata": {
  "kernelspec": {
   "display_name": "Python 3 (ipykernel)",
   "language": "python",
   "name": "python3"
  },
  "language_info": {
   "codemirror_mode": {
    "name": "ipython",
    "version": 3
   },
   "file_extension": ".py",
   "mimetype": "text/x-python",
   "name": "python",
   "nbconvert_exporter": "python",
   "pygments_lexer": "ipython3",
   "version": "3.9.12"
  }
 },
 "nbformat": 4,
 "nbformat_minor": 5
}
